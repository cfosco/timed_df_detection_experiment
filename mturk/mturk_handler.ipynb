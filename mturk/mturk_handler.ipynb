{
 "cells": [
  {
   "cell_type": "markdown",
   "metadata": {},
   "source": [
    "# Introduction"
   ]
  },
  {
   "cell_type": "markdown",
   "metadata": {},
   "source": [
    "This notebook will walk you through creating and monitoring HITs, specifically for the importance labeling task.\n",
    "\n",
    "It provides methods to create HITs, pretty-print HIT and assignment status, expire/edit HITs, create qualifications, and download collected data. \n",
    "\n",
    "Before continuing, make sure that you have read the README and set all config fields to their desired values.\n",
    "\n",
    "## Requirements: \n",
    "\n",
    "This code requires Python3 and the following packages: \n",
    "- boto3 \n",
    "- beautiful soup 4\n",
    "\n",
    "Before using, you will have to set up an authentication key to use the Amazon API and include it in a credentials file. See here: https://aws.amazon.com/developers/getting-started/python/"
   ]
  },
  {
   "cell_type": "markdown",
   "metadata": {},
   "source": [
    "# Setup"
   ]
  },
  {
   "cell_type": "markdown",
   "metadata": {},
   "source": [
    "Read the config file and establish a connection to MTurk.\n",
    "\n",
    "A connection is made to production or to the sandbox based on values in the config. "
   ]
  },
  {
   "cell_type": "code",
   "execution_count": 1,
   "metadata": {},
   "outputs": [],
   "source": [
    "import datetime\n",
    "import boto3\n",
    "import json\n",
    "import copy\n",
    "import pprint\n",
    "import os\n",
    "from bs4 import BeautifulSoup as bs \n",
    "from uuid import uuid4"
   ]
  },
  {
   "cell_type": "code",
   "execution_count": 2,
   "metadata": {},
   "outputs": [],
   "source": [
    "# Constants\n",
    "CONFIG_PATH=None\n",
    "\n",
    "# Path to the html task\n",
    "TASK_PATH = '..'\n",
    "title = \"Detect deepfakes appearing for fractions of a second!\"\n",
    "description = \"You will be shown short videos of faces, sometimes for fractions of a second. Some of them are deepfakes. Your task is to determine whether the videos shown are real or deepfakes.\"\n",
    "task_url = \"https://cfosco.github.io/timed_df_detection_experiment/\"\n",
    "\n",
    "\n",
    "# if TASK_PATH == '../../df_click':\n",
    "#     title = \"Annotate Artifacts in Deepfakes!\"\n",
    "#     description = 'You will be shown deepfake videos. Your task is to annotate the artifacts and defects of the fake video: all the areas on the face that do not look real.'\n",
    "#     task_url = \"https://allenjlee.github.io/dfclick/\"\n",
    "# elif TASK_PATH == '../../df_exp':\n",
    "#     title = \"Detect deepfakes without moving your eyes\"\n",
    "#     description = \"you will be shown to video side by side. One of them is a fake, without moving your eyes from a fixation cross in the middle of the videos, you have to detect which one is fake.\"\n",
    "#     task_url = \"https://allenjlee.github.io/df_exp/?data=\"\n",
    "# else:\n",
    "#     print(\"Task path not recognized\")\n",
    "\n",
    "# where to save downloaded results \n",
    "SAVE_PATH = './results'\n",
    "\n",
    "# sandbox or prod\n",
    "USING_PROD = True"
   ]
  },
  {
   "cell_type": "code",
   "execution_count": 3,
   "metadata": {},
   "outputs": [],
   "source": [
    "# Safety flags that prevent you from accidentally messing up your HITs. \n",
    "# Set to False except when you are performing these specific tasks.\n",
    "ALLOW_HIT_CREATION = True\n",
    "ALLOW_ASSIGNMENT_ADDITION = False\n",
    "ALLOW_CREATE_QUAL = True\n",
    "ALLOW_UPDATE_EXPIRATION = True"
   ]
  },
  {
   "cell_type": "code",
   "execution_count": 4,
   "metadata": {},
   "outputs": [
    {
     "name": "stdout",
     "output_type": "stream",
     "text": [
      "USING PROD\n",
      "Configuring task as an iframe within Mturk\n"
     ]
    }
   ],
   "source": [
    "# Read config and extract relevant settings\n",
    "\n",
    "if CONFIG_PATH:\n",
    "    with open(CONFIG_PATH, 'r') as f:\n",
    "        config = json.loads(f.read())\n",
    "else:\n",
    "    config = {\"hitCreation\": {\n",
    "            \"title\": title,\n",
    "            \"description\": description,\n",
    "            \"numTasks\": 1,\n",
    "            \"numAssignments\": 10,\n",
    "            \"rewardAmount\": \"1.0\",\n",
    "            \"keywords\": \"deepfakes, videos, artifacts, detection, annotate\",\n",
    "            \"duration\": 2000,\n",
    "            \"lifetime\": 186400,\n",
    "            \"taskUrl\": task_url,\n",
    "            \"production\": USING_PROD # Change between sandbox and prod here\n",
    "        },\n",
    "\n",
    "        \"advanced\": {\n",
    "            \"includeDemographicSurvey\": False,\n",
    "            \"hideIfNotAccepted\": False,\n",
    "            \"externalSubmit\": False,\n",
    "            \"externalSubmitUrl\": \"\"\n",
    "        }}\n",
    "\n",
    "    \n",
    "hit_config = config['hitCreation']\n",
    "\n",
    "external_submit = config['advanced']['externalSubmit']\n",
    "\n",
    "if USING_PROD:\n",
    "    print(\"USING PROD\")\n",
    "    endpoint_url = 'https://mturk-requester.us-east-1.amazonaws.com'\n",
    "    origin=\"production\"\n",
    "else:\n",
    "    print(\"USING SANDBOX\")\n",
    "    endpoint_url = 'https://mturk-requester-sandbox.us-east-1.amazonaws.com'\n",
    "    origin=\"sandbox\"\n",
    "\n",
    "# If using an external link, add a querystring origin=sandbox or origin=production \n",
    "# for use in your js logic if you want. Not done for MTurk submits because it breaks the submit link\n",
    "if external_submit: \n",
    "    hit_config['taskUrl'] = \"%s?origin=%s\" % (hit_config['taskUrl'], origin)\n",
    "\n",
    "if external_submit:\n",
    "    print(\"Configuring task as external link with data submitted to: %s\" % config['advanced']['externalSubmitUrl'])\n",
    "else:\n",
    "    print(\"Configuring task as an iframe within Mturk\")\n",
    "\n",
    "session = boto3.session.Session(profile_name=\"default\")\n",
    "cl = session.client('mturk', region_name='us-east-1', endpoint_url=endpoint_url)"
   ]
  },
  {
   "cell_type": "markdown",
   "metadata": {},
   "source": [
    "## Define task URL with folds to use in HIT\n",
    "The folds are txt files containing paths to the images to be used in the hit. This notebooks allows for creation of multiple hits, each with a different fold.txt .\n",
    "In the folder \"files\", multiple txt files (folds) can be found. Each one contains 10 images, and there are no repeats among folds. Each fold has a piece of the full canva_scraping2 dataset."
   ]
  },
  {
   "cell_type": "code",
   "execution_count": 5,
   "metadata": {},
   "outputs": [
    {
     "name": "stdout",
     "output_type": "stream",
     "text": [
      "Using folds: ['json_9.json', 'json_5.json', 'json_7.json', 'json_8.json', 'json_6.json']\n",
      "Num folds to use: 5\n",
      "TASK URL: https://cfosco.github.io/timed_df_detection_experiment/\n"
     ]
    }
   ],
   "source": [
    "# Whether to launch a hit per fold.txt in folder \"files\"\n",
    "LAUNCH_HITS_FOR_MULTIPLE_FOLDS = True\n",
    "FOLD_REQ_STR = 'json_'\n",
    "fold_numbers = list(range(5,10))\n",
    "\n",
    "# # # If need to manually specify fold, can be done here\n",
    "# fld = \"test.json\" #'sentinel_large.txt'\n",
    "\n",
    "if LAUNCH_HITS_FOR_MULTIPLE_FOLDS:\n",
    "    if fold_numbers is not None:\n",
    "        all_folds = [f for f in os.listdir(os.path.join(TASK_PATH,'src/jsons')) if (FOLD_REQ_STR in f and int(f.split('.')[0].split('_')[-1]) in fold_numbers)]    \n",
    "    else:    \n",
    "        all_folds = [f for f in os.listdir(os.path.join(TASK_PATH,'src/jsons')) if (FOLD_REQ_STR in f)]    \n",
    "\n",
    "    print('Using folds:',all_folds)\n",
    "    print('Num folds to use:', len(all_folds))\n",
    "else:\n",
    "    if fld:\n",
    "        hit_config['taskUrl'] = hit_config['taskUrl'] + \"?data=%s\" % fld\n",
    "    elif hit_config['fold']:\n",
    "        hit_config['taskUrl'] = hit_config['taskUrl'] + \"?data=%s\" % hit_config['fold']\n",
    "    else:\n",
    "        fld = input('Define fold (input name+.txt)')\n",
    "        hit_config['taskUrl'] = hit_config['taskUrl'] + \"?data=%s\" % fld    \n",
    "    \n",
    "print(\"TASK URL:\", hit_config['taskUrl'])"
   ]
  },
  {
   "cell_type": "markdown",
   "metadata": {},
   "source": [
    "# Make new HIT"
   ]
  },
  {
   "cell_type": "code",
   "execution_count": 6,
   "metadata": {},
   "outputs": [],
   "source": [
    "# List of qualifications that you will use to filter potential workers. \n",
    "# These require that workers come from the US and have an approval rating >= 95%\n",
    "# Edit this list to specify different qualifications for workers \n",
    "QUALS = [\n",
    "    {\n",
    "        'QualificationTypeId': '00000000000000000071',\n",
    "        'Comparator': 'EqualTo',\n",
    "        'LocaleValues': [{\n",
    "            'Country': 'US',\n",
    "        }],\n",
    "    },\n",
    "    {\n",
    "        'QualificationTypeId': '000000000000000000L0',\n",
    "        'Comparator': 'GreaterThanOrEqualTo',\n",
    "        'IntegerValues': [\n",
    "            99\n",
    "        ],\n",
    "    },\n",
    "]"
   ]
  },
  {
   "cell_type": "code",
   "execution_count": 7,
   "metadata": {},
   "outputs": [],
   "source": [
    "# Helpers for creating HITs. \n",
    "\n",
    "# generic helper that sets metadata fields based on the config file.\n",
    "def create_hit(task, questionText, quals=QUALS): \n",
    "    response = cl.create_hit(\n",
    "        MaxAssignments=task['numAssignments'],\n",
    "        AutoApprovalDelayInSeconds=604800,\n",
    "        LifetimeInSeconds=task['lifetime'],\n",
    "        AssignmentDurationInSeconds=task['duration'],\n",
    "        Reward=task['rewardAmount'],\n",
    "        Title=task['title'],\n",
    "        Keywords=task['keywords'],\n",
    "        Description=task['description'],\n",
    "        Question=questionText,\n",
    "        QualificationRequirements=quals,\n",
    "    )\n",
    "    print(response)\n",
    "    print(\"\\n\")\n",
    "\n",
    "# creates a HIT in the form of an External Question inside an iFrame\n",
    "def create_hit_iframe(task):\n",
    "    questionText = \"<ExternalQuestion xmlns=\\\"http://mechanicalturk.amazonaws.com/AWSMechanicalTurkDataSchemas/\"\n",
    "    questionText += \"2006-07-14/ExternalQuestion.xsd\\\">\\n<ExternalURL>\" + task['taskUrl']\n",
    "    questionText += \"</ExternalURL>\\n  <FrameHeight>700</FrameHeight>\\n</ExternalQuestion>\"\n",
    "    create_hit(task, questionText)\n",
    "    \n",
    "# Helper to create a HIT in the form of a simple UI with a link to an external page and an\n",
    "# input box for a completion code \n",
    "def create_hit_external(task):\n",
    "    with open('questionform_template.xml', 'r') as myfile:\n",
    "        template=myfile.read() \n",
    "    question_xml = template % (hit_config[\"title\"], hit_config[\"description\"], task['taskUrl'])\n",
    "    create_hit(task, question_xml)"
   ]
  },
  {
   "cell_type": "code",
   "execution_count": 8,
   "metadata": {},
   "outputs": [
    {
     "name": "stdout",
     "output_type": "stream",
     "text": [
      "creating 5 tasks with folds ['json_9.json', 'json_5.json', 'json_7.json', 'json_8.json', 'json_6.json']\n",
      "Creating HIT with 10 assignments and url https://cfosco.github.io/timed_df_detection_experiment/?data=json_9.json\n",
      "{'HIT': {'HITId': '3XH7ZM9YX49ETF6B9DT43Q1ID1Y9RS', 'HITTypeId': '3TZJMY6N8O92GXHN8X6OA6OUELZ7GE', 'HITGroupId': '3E9LIZY4D4QPJJA91JJYZ3RUIP6O6H', 'CreationTime': datetime.datetime(2022, 4, 27, 1, 6, 47, tzinfo=tzlocal()), 'Title': 'Detect deepfakes appearing for fractions of a second!', 'Description': 'You will be shown short videos of faces, sometimes for fractions of a second. Some of them are deepfakes. Your task is to determine whether the videos shown are real or deepfakes.', 'Question': '<ExternalQuestion xmlns=\"http://mechanicalturk.amazonaws.com/AWSMechanicalTurkDataSchemas/2006-07-14/ExternalQuestion.xsd\">\\n<ExternalURL>https://cfosco.github.io/timed_df_detection_experiment/?data=json_9.json</ExternalURL>\\n  <FrameHeight>700</FrameHeight>\\n</ExternalQuestion>', 'Keywords': 'deepfakes, videos, artifacts, detection, annotate', 'HITStatus': 'Assignable', 'MaxAssignments': 10, 'Reward': '1.00', 'AutoApprovalDelayInSeconds': 604800, 'Expiration': datetime.datetime(2022, 4, 29, 4, 53, 27, tzinfo=tzlocal()), 'AssignmentDurationInSeconds': 2000, 'QualificationRequirements': [{'QualificationTypeId': '00000000000000000071', 'Comparator': 'EqualTo', 'LocaleValues': [{'Country': 'US'}], 'RequiredToPreview': False, 'ActionsGuarded': 'Accept'}, {'QualificationTypeId': '000000000000000000L0', 'Comparator': 'GreaterThanOrEqualTo', 'IntegerValues': [99], 'RequiredToPreview': False, 'ActionsGuarded': 'Accept'}], 'HITReviewStatus': 'NotReviewed', 'NumberOfAssignmentsPending': 0, 'NumberOfAssignmentsAvailable': 10, 'NumberOfAssignmentsCompleted': 0}, 'ResponseMetadata': {'RequestId': '4c685b6c-0d96-4b7b-866b-aa4833f610c5', 'HTTPStatusCode': 200, 'HTTPHeaders': {'x-amzn-requestid': '4c685b6c-0d96-4b7b-866b-aa4833f610c5', 'content-type': 'application/x-amz-json-1.1', 'content-length': '1419', 'date': 'Wed, 27 Apr 2022 05:06:47 GMT'}, 'RetryAttempts': 0}}\n",
      "\n",
      "\n",
      "Creating HIT with 10 assignments and url https://cfosco.github.io/timed_df_detection_experiment/?data=json_5.json\n",
      "{'HIT': {'HITId': '3VEI3XUCZTCZL2MIQ2P1PG1XI5GPR3', 'HITTypeId': '3TZJMY6N8O92GXHN8X6OA6OUELZ7GE', 'HITGroupId': '3E9LIZY4D4QPJJA91JJYZ3RUIP6O6H', 'CreationTime': datetime.datetime(2022, 4, 27, 1, 6, 48, tzinfo=tzlocal()), 'Title': 'Detect deepfakes appearing for fractions of a second!', 'Description': 'You will be shown short videos of faces, sometimes for fractions of a second. Some of them are deepfakes. Your task is to determine whether the videos shown are real or deepfakes.', 'Question': '<ExternalQuestion xmlns=\"http://mechanicalturk.amazonaws.com/AWSMechanicalTurkDataSchemas/2006-07-14/ExternalQuestion.xsd\">\\n<ExternalURL>https://cfosco.github.io/timed_df_detection_experiment/?data=json_5.json</ExternalURL>\\n  <FrameHeight>700</FrameHeight>\\n</ExternalQuestion>', 'Keywords': 'deepfakes, videos, artifacts, detection, annotate', 'HITStatus': 'Assignable', 'MaxAssignments': 10, 'Reward': '1.00', 'AutoApprovalDelayInSeconds': 604800, 'Expiration': datetime.datetime(2022, 4, 29, 4, 53, 28, tzinfo=tzlocal()), 'AssignmentDurationInSeconds': 2000, 'QualificationRequirements': [{'QualificationTypeId': '00000000000000000071', 'Comparator': 'EqualTo', 'LocaleValues': [{'Country': 'US'}], 'RequiredToPreview': False, 'ActionsGuarded': 'Accept'}, {'QualificationTypeId': '000000000000000000L0', 'Comparator': 'GreaterThanOrEqualTo', 'IntegerValues': [99], 'RequiredToPreview': False, 'ActionsGuarded': 'Accept'}], 'HITReviewStatus': 'NotReviewed', 'NumberOfAssignmentsPending': 0, 'NumberOfAssignmentsAvailable': 10, 'NumberOfAssignmentsCompleted': 0}, 'ResponseMetadata': {'RequestId': 'd4dd3133-e2b7-48f1-b9ea-a38646fe70b0', 'HTTPStatusCode': 200, 'HTTPHeaders': {'x-amzn-requestid': 'd4dd3133-e2b7-48f1-b9ea-a38646fe70b0', 'content-type': 'application/x-amz-json-1.1', 'content-length': '1419', 'date': 'Wed, 27 Apr 2022 05:06:47 GMT'}, 'RetryAttempts': 0}}\n",
      "\n",
      "\n",
      "Creating HIT with 10 assignments and url https://cfosco.github.io/timed_df_detection_experiment/?data=json_7.json\n",
      "{'HIT': {'HITId': '3NC6WP7WJJZUD7051ID249HA3HYWW8', 'HITTypeId': '3TZJMY6N8O92GXHN8X6OA6OUELZ7GE', 'HITGroupId': '3E9LIZY4D4QPJJA91JJYZ3RUIP6O6H', 'CreationTime': datetime.datetime(2022, 4, 27, 1, 6, 48, tzinfo=tzlocal()), 'Title': 'Detect deepfakes appearing for fractions of a second!', 'Description': 'You will be shown short videos of faces, sometimes for fractions of a second. Some of them are deepfakes. Your task is to determine whether the videos shown are real or deepfakes.', 'Question': '<ExternalQuestion xmlns=\"http://mechanicalturk.amazonaws.com/AWSMechanicalTurkDataSchemas/2006-07-14/ExternalQuestion.xsd\">\\n<ExternalURL>https://cfosco.github.io/timed_df_detection_experiment/?data=json_7.json</ExternalURL>\\n  <FrameHeight>700</FrameHeight>\\n</ExternalQuestion>', 'Keywords': 'deepfakes, videos, artifacts, detection, annotate', 'HITStatus': 'Assignable', 'MaxAssignments': 10, 'Reward': '1.00', 'AutoApprovalDelayInSeconds': 604800, 'Expiration': datetime.datetime(2022, 4, 29, 4, 53, 28, tzinfo=tzlocal()), 'AssignmentDurationInSeconds': 2000, 'QualificationRequirements': [{'QualificationTypeId': '00000000000000000071', 'Comparator': 'EqualTo', 'LocaleValues': [{'Country': 'US'}], 'RequiredToPreview': False, 'ActionsGuarded': 'Accept'}, {'QualificationTypeId': '000000000000000000L0', 'Comparator': 'GreaterThanOrEqualTo', 'IntegerValues': [99], 'RequiredToPreview': False, 'ActionsGuarded': 'Accept'}], 'HITReviewStatus': 'NotReviewed', 'NumberOfAssignmentsPending': 0, 'NumberOfAssignmentsAvailable': 10, 'NumberOfAssignmentsCompleted': 0}, 'ResponseMetadata': {'RequestId': 'bdf4f12f-e606-49da-9618-e9e093c68f95', 'HTTPStatusCode': 200, 'HTTPHeaders': {'x-amzn-requestid': 'bdf4f12f-e606-49da-9618-e9e093c68f95', 'content-type': 'application/x-amz-json-1.1', 'content-length': '1419', 'date': 'Wed, 27 Apr 2022 05:06:47 GMT'}, 'RetryAttempts': 0}}\n",
      "\n",
      "\n",
      "Creating HIT with 10 assignments and url https://cfosco.github.io/timed_df_detection_experiment/?data=json_8.json\n",
      "{'HIT': {'HITId': '3IZVJEBJ6CZ0DNQ4LNK55JCFWH9Z60', 'HITTypeId': '3TZJMY6N8O92GXHN8X6OA6OUELZ7GE', 'HITGroupId': '3E9LIZY4D4QPJJA91JJYZ3RUIP6O6H', 'CreationTime': datetime.datetime(2022, 4, 27, 1, 6, 48, tzinfo=tzlocal()), 'Title': 'Detect deepfakes appearing for fractions of a second!', 'Description': 'You will be shown short videos of faces, sometimes for fractions of a second. Some of them are deepfakes. Your task is to determine whether the videos shown are real or deepfakes.', 'Question': '<ExternalQuestion xmlns=\"http://mechanicalturk.amazonaws.com/AWSMechanicalTurkDataSchemas/2006-07-14/ExternalQuestion.xsd\">\\n<ExternalURL>https://cfosco.github.io/timed_df_detection_experiment/?data=json_8.json</ExternalURL>\\n  <FrameHeight>700</FrameHeight>\\n</ExternalQuestion>', 'Keywords': 'deepfakes, videos, artifacts, detection, annotate', 'HITStatus': 'Assignable', 'MaxAssignments': 10, 'Reward': '1.00', 'AutoApprovalDelayInSeconds': 604800, 'Expiration': datetime.datetime(2022, 4, 29, 4, 53, 28, tzinfo=tzlocal()), 'AssignmentDurationInSeconds': 2000, 'QualificationRequirements': [{'QualificationTypeId': '00000000000000000071', 'Comparator': 'EqualTo', 'LocaleValues': [{'Country': 'US'}], 'RequiredToPreview': False, 'ActionsGuarded': 'Accept'}, {'QualificationTypeId': '000000000000000000L0', 'Comparator': 'GreaterThanOrEqualTo', 'IntegerValues': [99], 'RequiredToPreview': False, 'ActionsGuarded': 'Accept'}], 'HITReviewStatus': 'NotReviewed', 'NumberOfAssignmentsPending': 0, 'NumberOfAssignmentsAvailable': 10, 'NumberOfAssignmentsCompleted': 0}, 'ResponseMetadata': {'RequestId': '79ac9e83-f451-46a1-a4d1-c6a40e8c00d7', 'HTTPStatusCode': 200, 'HTTPHeaders': {'x-amzn-requestid': '79ac9e83-f451-46a1-a4d1-c6a40e8c00d7', 'content-type': 'application/x-amz-json-1.1', 'content-length': '1419', 'date': 'Wed, 27 Apr 2022 05:06:47 GMT'}, 'RetryAttempts': 0}}\n",
      "\n",
      "\n",
      "Creating HIT with 10 assignments and url https://cfosco.github.io/timed_df_detection_experiment/?data=json_6.json\n",
      "{'HIT': {'HITId': '3XD2A6FGFP9QUU6OO2T9T06EZ3H9SG', 'HITTypeId': '3TZJMY6N8O92GXHN8X6OA6OUELZ7GE', 'HITGroupId': '3E9LIZY4D4QPJJA91JJYZ3RUIP6O6H', 'CreationTime': datetime.datetime(2022, 4, 27, 1, 6, 48, tzinfo=tzlocal()), 'Title': 'Detect deepfakes appearing for fractions of a second!', 'Description': 'You will be shown short videos of faces, sometimes for fractions of a second. Some of them are deepfakes. Your task is to determine whether the videos shown are real or deepfakes.', 'Question': '<ExternalQuestion xmlns=\"http://mechanicalturk.amazonaws.com/AWSMechanicalTurkDataSchemas/2006-07-14/ExternalQuestion.xsd\">\\n<ExternalURL>https://cfosco.github.io/timed_df_detection_experiment/?data=json_6.json</ExternalURL>\\n  <FrameHeight>700</FrameHeight>\\n</ExternalQuestion>', 'Keywords': 'deepfakes, videos, artifacts, detection, annotate', 'HITStatus': 'Assignable', 'MaxAssignments': 10, 'Reward': '1.00', 'AutoApprovalDelayInSeconds': 604800, 'Expiration': datetime.datetime(2022, 4, 29, 4, 53, 28, tzinfo=tzlocal()), 'AssignmentDurationInSeconds': 2000, 'QualificationRequirements': [{'QualificationTypeId': '00000000000000000071', 'Comparator': 'EqualTo', 'LocaleValues': [{'Country': 'US'}], 'RequiredToPreview': False, 'ActionsGuarded': 'Accept'}, {'QualificationTypeId': '000000000000000000L0', 'Comparator': 'GreaterThanOrEqualTo', 'IntegerValues': [99], 'RequiredToPreview': False, 'ActionsGuarded': 'Accept'}], 'HITReviewStatus': 'NotReviewed', 'NumberOfAssignmentsPending': 0, 'NumberOfAssignmentsAvailable': 10, 'NumberOfAssignmentsCompleted': 0}, 'ResponseMetadata': {'RequestId': '2e8fae25-b64a-4306-a115-f67720388bb3', 'HTTPStatusCode': 200, 'HTTPHeaders': {'x-amzn-requestid': '2e8fae25-b64a-4306-a115-f67720388bb3', 'content-type': 'application/x-amz-json-1.1', 'content-length': '1419', 'date': 'Wed, 27 Apr 2022 05:06:47 GMT'}, 'RetryAttempts': 0}}\n",
      "\n",
      "\n"
     ]
    }
   ],
   "source": [
    "# Use this cell to launch your HIT! \n",
    "if ALLOW_HIT_CREATION: \n",
    "    if not (hit_config.get('variants', False) or hit_config.get('numTasks', False)): \n",
    "        raise RuntimeError(\"You must specify either hitCreation.numTasks or hitCreation.variants in your config.json file\")\n",
    "    \n",
    "    hit_creation_function = create_hit_external if external_submit else create_hit_iframe\n",
    "    \n",
    "    if LAUNCH_HITS_FOR_MULTIPLE_FOLDS:\n",
    "        print(\"creating\", len(all_folds), \"tasks with folds %s\" % all_folds)\n",
    "        for fold in all_folds:\n",
    "            hit_config['taskUrl'] = hit_config['taskUrl'].split('?')[0] + \"?data=%s\" % fold\n",
    "            print(\"Creating HIT with %d assignments and url %s\" % (hit_config['numAssignments'], hit_config['taskUrl']))\n",
    "            hit_creation_function(hit_config)\n",
    "    \n",
    "    elif hit_config.get('numTasks', False): \n",
    "        print(\"creating \" + str(hit_config['numTasks']) + \" tasks\")\n",
    "        for i in range(hit_config['numTasks']):\n",
    "            hit_creation_function(hit_config)\n",
    "    else: \n",
    "        print(\"creating \" + str(len(config['variants'])) + \" variants\")\n",
    "        for var in hit_config['variants']: \n",
    "            task = copy.deepcopy(config)\n",
    "            task.update(var)\n",
    "            hit_creation_function(task)\n",
    "    \n",
    "else: \n",
    "    raise RuntimeError(\"This action is not currently enabled; set `ALLOW_HIT_CREATION` to true to proceed with this action\")"
   ]
  },
  {
   "cell_type": "markdown",
   "metadata": {},
   "source": [
    "# HIT monitoring helpers"
   ]
  },
  {
   "cell_type": "markdown",
   "metadata": {},
   "source": [
    "Helper functions that will be useful for monitoring the status of your HIT. See next section for how to use them."
   ]
  },
  {
   "cell_type": "code",
   "execution_count": 10,
   "metadata": {},
   "outputs": [],
   "source": [
    "# Contacts MTurk API to get all assignments for a HIT\n",
    "# Returns them in a list. \n",
    "def get_all_assignments(hitid): \n",
    "    assignments = []\n",
    "    should_continue = True\n",
    "    next_token = False\n",
    "    while (should_continue): \n",
    "        args = {'HITId': hitid, \n",
    "                'MaxResults': 100}\n",
    "        if (next_token): \n",
    "            args['NextToken'] = next_token\n",
    "        r = cl.list_assignments_for_hit(**args)\n",
    "        next_token = r.get('NextToken', False)\n",
    "        assignments.extend(r[\"Assignments\"])\n",
    "        should_continue = len(r[\"Assignments\"]) > 0\n",
    "    return assignments\n",
    "\n",
    "\n",
    "def get_hits(max_results=200):\n",
    "    hits = []\n",
    "    mr = min(max_results, 100)\n",
    "    should_continue = True\n",
    "    next_token=False\n",
    "    c=0\n",
    "    while(should_continue):\n",
    "        args = {\n",
    "            'MaxResults': mr\n",
    "        }\n",
    "        if (next_token): \n",
    "            args['NextToken'] = next_token\n",
    "        r = cl.list_hits(**args)\n",
    "        next_token = r.get('NextToken', False)\n",
    "        hits.extend(r[\"HITs\"])\n",
    "        c += len(r[\"HITs\"])\n",
    "        should_continue = next_token and (c<max_results)\n",
    "#         mr = mr-100\n",
    "    return hits\n",
    "\n",
    "# Summarizes all hits in `hits` in a human-readable way. \n",
    "# Prints out the HIT Title, id, if it is expired, and how many assignments it has\n",
    "# completed, pending, and left for work. \n",
    "def summarize_hits(hits, get_submitted=True): \n",
    "    print(len(hits))\n",
    "    ret = \"\"\n",
    "    for hit in hits: \n",
    "        expiration = hit['Expiration'].replace(tzinfo=None)\n",
    "        is_expired = expiration < datetime.datetime.now()\n",
    "        description = (\"Title: {title}\\n\" \n",
    "        \"ID: {hid}\\n\"\n",
    "        \"\\tAssignments left: {left}\\n\"\n",
    "        \"\\tAssignments completed: {complete}\\n\"\n",
    "        \"\\tAssignments pending: {pending}\\n\"\n",
    "        ).format(\n",
    "            title=hit['Title'], \n",
    "            hid=hit['HITId'], \n",
    "            left=hit['NumberOfAssignmentsAvailable'], \n",
    "            complete=hit['NumberOfAssignmentsCompleted'], \n",
    "            pending=hit['NumberOfAssignmentsPending']\n",
    "            \n",
    "        )\n",
    "        \n",
    "        if get_submitted:\n",
    "            submitted=0\n",
    "            assignments = get_all_assignments(hit['HITId'])\n",
    "            if assignments:\n",
    "                for a in assignments: \n",
    "                    if a['AssignmentStatus'] == 'Submitted':\n",
    "                        submitted+=1\n",
    "                    \n",
    "            description+='\\tAssignments submitted: %d\\n' % submitted\n",
    "        \n",
    "        description += \"\\tExpired: {exp}\\n\\n\".format(exp=str(is_expired))\n",
    "        \n",
    "        ret += description\n",
    "    print(ret)\n",
    "    \n",
    "# Prints a human-readable summary of all pending/submitted/approved assignments for all hits in `hits`\n",
    "def summarize_assignments(hits):\n",
    "    ret = \"\"\n",
    "    for hit in hits: \n",
    "        hid = hit['HITId']\n",
    "        title =  hit['Title']\n",
    "        name = \"HIT %s: %s\" % (hid, title)\n",
    "        ret += name + \"\\n\"\n",
    "        assignments = get_all_assignments(hid)\n",
    "        if len(assignments) == 0: \n",
    "            ret += \"\\tNo pending/submitted/approved assignments for this HIT\\n\"\n",
    "        for a in assignments: \n",
    "            desc = \"\\tAssignment {aid}\\n\\t\\tStatus: {status}\\n\".format(aid=a['AssignmentId'], status=a['AssignmentStatus'])\n",
    "            ret += desc\n",
    "    print(ret)\n",
    "    \n",
    "# Refreshes data about the requested hits\n",
    "def refresh_hits(): \n",
    "    global hits \n",
    "    global MAX_RESULTS\n",
    "    hits = cl.list_hits(MaxResults=MAX_RESULTS)['HITs']"
   ]
  },
  {
   "cell_type": "markdown",
   "metadata": {},
   "source": [
    "# HIT monitoring"
   ]
  },
  {
   "cell_type": "code",
   "execution_count": 11,
   "metadata": {},
   "outputs": [
    {
     "name": "stdout",
     "output_type": "stream",
     "text": [
      "22\n"
     ]
    }
   ],
   "source": [
    "# API call to grab HIT data from MTurk \n",
    "hits = get_hits(max_results=100)\n",
    "print(len(hits))\n"
   ]
  },
  {
   "cell_type": "code",
   "execution_count": 12,
   "metadata": {},
   "outputs": [
    {
     "name": "stdout",
     "output_type": "stream",
     "text": [
      "22\n",
      "Title: Detect deepfakes appearing for fractions of a second!\n",
      "ID: 3IZVJEBJ6CZ0DNQ4LNK55JCFWH9Z60\n",
      "\tAssignments left: 3\n",
      "\tAssignments completed: 0\n",
      "\tAssignments pending: 7\n",
      "\tAssignments submitted: 0\n",
      "\tExpired: False\n",
      "\n",
      "Title: Detect deepfakes appearing for fractions of a second!\n",
      "ID: 3VEI3XUCZTCZL2MIQ2P1PG1XI5GPR3\n",
      "\tAssignments left: 3\n",
      "\tAssignments completed: 0\n",
      "\tAssignments pending: 7\n",
      "\tAssignments submitted: 0\n",
      "\tExpired: False\n",
      "\n",
      "Title: Detect deepfakes appearing for fractions of a second!\n",
      "ID: 3XD2A6FGFP9QUU6OO2T9T06EZ3H9SG\n",
      "\tAssignments left: 4\n",
      "\tAssignments completed: 0\n",
      "\tAssignments pending: 6\n",
      "\tAssignments submitted: 0\n",
      "\tExpired: False\n",
      "\n",
      "Title: Detect deepfakes appearing for fractions of a second!\n",
      "ID: 3NC6WP7WJJZUD7051ID249HA3HYWW8\n",
      "\tAssignments left: 2\n",
      "\tAssignments completed: 0\n",
      "\tAssignments pending: 8\n",
      "\tAssignments submitted: 0\n",
      "\tExpired: False\n",
      "\n",
      "Title: Detect deepfakes appearing for fractions of a second!\n",
      "ID: 3XH7ZM9YX49ETF6B9DT43Q1ID1Y9RS\n",
      "\tAssignments left: 2\n",
      "\tAssignments completed: 0\n",
      "\tAssignments pending: 8\n",
      "\tAssignments submitted: 0\n",
      "\tExpired: False\n",
      "\n",
      "Title: Detect deepfakes appearing for fractions of a second!\n",
      "ID: 31SIZS5W5BUKLENXQF4QPLR7NYNRQB\n",
      "\tAssignments left: 0\n",
      "\tAssignments completed: 10\n",
      "\tAssignments pending: 0\n",
      "\tAssignments submitted: 0\n",
      "\tExpired: True\n",
      "\n",
      "Title: Detect deepfakes appearing for fractions of a second!\n",
      "ID: 3RIHDBQ1NGDGB5B22HLFU85WQOSHMH\n",
      "\tAssignments left: 0\n",
      "\tAssignments completed: 10\n",
      "\tAssignments pending: 0\n",
      "\tAssignments submitted: 0\n",
      "\tExpired: True\n",
      "\n",
      "Title: Detect deepfakes appearing for fractions of a second!\n",
      "ID: 3IKDQS3DQGF3YEAVVA9MRO1ZWN3CIN\n",
      "\tAssignments left: 0\n",
      "\tAssignments completed: 10\n",
      "\tAssignments pending: 0\n",
      "\tAssignments submitted: 0\n",
      "\tExpired: True\n",
      "\n",
      "Title: Detect deepfakes appearing for fractions of a second!\n",
      "ID: 3K3IX1W4S867ML01OR3FUQCNIYDPAA\n",
      "\tAssignments left: 0\n",
      "\tAssignments completed: 10\n",
      "\tAssignments pending: 0\n",
      "\tAssignments submitted: 0\n",
      "\tExpired: True\n",
      "\n",
      "Title: Detect deepfakes appearing for fractions of a second!\n",
      "ID: 360ZO6N6J3YNWZTJ45XNHR787BKM9W\n",
      "\tAssignments left: 0\n",
      "\tAssignments completed: 10\n",
      "\tAssignments pending: 0\n",
      "\tAssignments submitted: 0\n",
      "\tExpired: True\n",
      "\n",
      "Title: Detect deepfakes appearing for fractions of a second!\n",
      "ID: 3RWB1RTQDL2T3X7MRTJ1YZ6SS928PC\n",
      "\tAssignments left: 0\n",
      "\tAssignments completed: 10\n",
      "\tAssignments pending: 0\n",
      "\tAssignments submitted: 0\n",
      "\tExpired: True\n",
      "\n",
      "Title: Detect deepfakes appearing for fractions of a second!\n",
      "ID: 31ODACBENWUWMTNA544VFVW39VBSQV\n",
      "\tAssignments left: 0\n",
      "\tAssignments completed: 10\n",
      "\tAssignments pending: 0\n",
      "\tAssignments submitted: 0\n",
      "\tExpired: True\n",
      "\n",
      "Title: Detect deepfakes appearing for fractions of a second!\n",
      "ID: 3MDKGGG61S24RBH5FVVNJVBYAGF6T8\n",
      "\tAssignments left: 0\n",
      "\tAssignments completed: 10\n",
      "\tAssignments pending: 0\n",
      "\tAssignments submitted: 0\n",
      "\tExpired: True\n",
      "\n",
      "Title: Detect deepfakes appearing for fractions of a second!\n",
      "ID: 382GHPVPHU6LD7FXHSWH4KNMKQW434\n",
      "\tAssignments left: 0\n",
      "\tAssignments completed: 10\n",
      "\tAssignments pending: 0\n",
      "\tAssignments submitted: 0\n",
      "\tExpired: True\n",
      "\n",
      "Title: Detect deepfakes appearing for fractions of a second!\n",
      "ID: 3YLTXLH3DHLMW88FUXD7BCZRUR9PHM\n",
      "\tAssignments left: 0\n",
      "\tAssignments completed: 10\n",
      "\tAssignments pending: 0\n",
      "\tAssignments submitted: 0\n",
      "\tExpired: True\n",
      "\n",
      "Title: Detect deepfakes appearing for fractions of a second!\n",
      "ID: 3LB1BGHFL4B6AVRBLEQF2MVR9Q7TYU\n",
      "\tAssignments left: 0\n",
      "\tAssignments completed: 10\n",
      "\tAssignments pending: 0\n",
      "\tAssignments submitted: 0\n",
      "\tExpired: True\n",
      "\n",
      "Title: Detect deepfakes appearing for fractions of a second!\n",
      "ID: 3L1EFR8WWVKHQP12IITAM1NZ98F9FE\n",
      "\tAssignments left: 0\n",
      "\tAssignments completed: 10\n",
      "\tAssignments pending: 0\n",
      "\tAssignments submitted: 0\n",
      "\tExpired: True\n",
      "\n",
      "Title: Detect deepfakes appearing for fractions of a second!\n",
      "ID: 3RTFSSG7TALE2DO6X460VY0U45LWLV\n",
      "\tAssignments left: 0\n",
      "\tAssignments completed: 10\n",
      "\tAssignments pending: 0\n",
      "\tAssignments submitted: 0\n",
      "\tExpired: True\n",
      "\n",
      "Title: Detect deepfakes appearing for fractions of a second!\n",
      "ID: 3WGCNLZJKHN230KBNZJRJV2VZJB1DM\n",
      "\tAssignments left: 0\n",
      "\tAssignments completed: 10\n",
      "\tAssignments pending: 0\n",
      "\tAssignments submitted: 0\n",
      "\tExpired: True\n",
      "\n",
      "Title: Detect deepfakes appearing for fractions of a second!\n",
      "ID: 367O8HRHKINPXO0C77XICSVYC6US4J\n",
      "\tAssignments left: 0\n",
      "\tAssignments completed: 10\n",
      "\tAssignments pending: 0\n",
      "\tAssignments submitted: 0\n",
      "\tExpired: True\n",
      "\n",
      "Title: Detect deepfakes appearing for fractions of a second!\n",
      "ID: 3YZ7A3YHR787T74CLCGSHK1CC2PS5O\n",
      "\tAssignments left: 0\n",
      "\tAssignments completed: 10\n",
      "\tAssignments pending: 0\n",
      "\tAssignments submitted: 0\n",
      "\tExpired: True\n",
      "\n",
      "Title: Detect deepfakes appearing for fractions of a second!\n",
      "ID: 3QI9WAYOGSQ3CB4QQVQX9QFC8X16SJ\n",
      "\tAssignments left: 0\n",
      "\tAssignments completed: 10\n",
      "\tAssignments pending: 0\n",
      "\tAssignments submitted: 0\n",
      "\tExpired: True\n",
      "\n",
      "\n"
     ]
    }
   ],
   "source": [
    "# Summarizes all outstanding HITs\n",
    "# refresh_hits() \n",
    "summarize_hits(hits) "
   ]
  },
  {
   "cell_type": "code",
   "execution_count": 13,
   "metadata": {},
   "outputs": [],
   "source": [
    "# Summarizes assignments for all oustanding HITs \n",
    "# refresh_hits()\n",
    "summarize_assignments(hits)"
   ]
  },
  {
   "cell_type": "markdown",
   "metadata": {},
   "source": [
    "# Approve HITs"
   ]
  },
  {
   "cell_type": "markdown",
   "metadata": {},
   "source": [
    "Approves all outstanding assignments for the HITs displayed above. "
   ]
  },
  {
   "cell_type": "code",
   "execution_count": null,
   "metadata": {},
   "outputs": [],
   "source": [
    "def approve_all(hits): \n",
    "    num_approved = 0\n",
    "    for hit in hits: \n",
    "        # make sure you keep getting assignments \n",
    "        assignments = get_all_assignments(hit[\"HITId\"])\n",
    "        #print(assignments)\n",
    "        for a in assignments: \n",
    "            if a['AssignmentStatus'] != 'Approved':\n",
    "                print(\"Approving assignment\")\n",
    "                num_approved += 1\n",
    "                cl.approve_assignment(AssignmentId=a['AssignmentId'])\n",
    "    print(\"Approved %d assignments\" % num_approved)"
   ]
  },
  {
   "cell_type": "code",
   "execution_count": null,
   "metadata": {
    "scrolled": true
   },
   "outputs": [
    {
     "name": "stdout",
     "output_type": "stream",
     "text": [
      "Approving assignment\n",
      "Approving assignment\n",
      "Approving assignment\n",
      "Approving assignment\n",
      "Approving assignment\n",
      "Approving assignment\n",
      "Approving assignment\n",
      "Approving assignment\n",
      "Approving assignment\n",
      "Approving assignment\n",
      "Approving assignment\n",
      "Approving assignment\n",
      "Approving assignment\n",
      "Approving assignment\n",
      "Approving assignment\n",
      "Approving assignment\n",
      "Approving assignment\n",
      "Approving assignment\n",
      "Approving assignment\n",
      "Approving assignment\n",
      "Approving assignment\n",
      "Approving assignment\n",
      "Approving assignment\n",
      "Approving assignment\n",
      "Approving assignment\n",
      "Approving assignment\n",
      "Approving assignment\n",
      "Approving assignment\n",
      "Approving assignment\n",
      "Approving assignment\n",
      "Approving assignment\n",
      "Approving assignment\n",
      "Approving assignment\n",
      "Approving assignment\n",
      "Approving assignment\n",
      "Approving assignment\n",
      "Approving assignment\n",
      "Approving assignment\n",
      "Approving assignment\n",
      "Approving assignment\n",
      "Approving assignment\n",
      "Approving assignment\n",
      "Approving assignment\n",
      "Approving assignment\n",
      "Approving assignment\n",
      "Approving assignment\n",
      "Approving assignment\n",
      "Approving assignment\n",
      "Approving assignment\n",
      "Approving assignment\n",
      "Approved 50 assignments\n"
     ]
    }
   ],
   "source": [
    "# refresh_hits()\n",
    "approve_all(hits)"
   ]
  },
  {
   "cell_type": "markdown",
   "metadata": {},
   "source": [
    "# Update expiration or num tasks"
   ]
  },
  {
   "cell_type": "code",
   "execution_count": 150,
   "metadata": {},
   "outputs": [],
   "source": [
    "# changes the expiration date on a HIT to days_from_now days in the future\n",
    "def update_expiration(hitid, days_from_now): \n",
    "    if ALLOW_UPDATE_EXPIRATION: \n",
    "        days = days_from_now*datetime.timedelta(days=1)\n",
    "        expire_time = datetime.datetime.now() + days\n",
    "\n",
    "        response = cl.update_expiration_for_hit(HITId=hitid, ExpireAt=expire_time)\n",
    "        print(response)\n",
    "        return response\n",
    "    else: \n",
    "        raise RuntimeError(\"This action is not currently enabled; set `ALLOW_UPDATE_EXPIRATION` to true to proceed with this action\")\n",
    "    \n",
    "def expire_hit(hit): \n",
    "    return update_expiration(hit, -10)"
   ]
  },
  {
   "cell_type": "code",
   "execution_count": 151,
   "metadata": {},
   "outputs": [],
   "source": [
    "def add_assignments(hitid, num_assignments): \n",
    "    if ALLOW_ASSIGNMENT_ADDITION: \n",
    "        response = cl.create_additional_assignments_for_hit(\n",
    "            HITId=hitid,\n",
    "            NumberOfAdditionalAssignments=num_assignments\n",
    "        )\n",
    "        print(response)\n",
    "        return response\n",
    "    else: \n",
    "        raise RuntimeError(\"This action is not currently enabled; set `ALLOW_ASSIGNMENT_ADDITION` to true to proceed with this action\")"
   ]
  },
  {
   "cell_type": "code",
   "execution_count": 21,
   "metadata": {},
   "outputs": [
    {
     "name": "stdout",
     "output_type": "stream",
     "text": [
      "{'ResponseMetadata': {'RequestId': '019e6e76-63b6-4f24-a6a1-dad73abd678e', 'HTTPStatusCode': 200, 'HTTPHeaders': {'x-amzn-requestid': '019e6e76-63b6-4f24-a6a1-dad73abd678e', 'content-type': 'application/x-amz-json-1.1', 'content-length': '2', 'date': 'Thu, 21 May 2020 18:55:49 GMT'}, 'RetryAttempts': 0}}\n"
     ]
    },
    {
     "data": {
      "text/plain": [
       "{'ResponseMetadata': {'RequestId': '019e6e76-63b6-4f24-a6a1-dad73abd678e',\n",
       "  'HTTPStatusCode': 200,\n",
       "  'HTTPHeaders': {'x-amzn-requestid': '019e6e76-63b6-4f24-a6a1-dad73abd678e',\n",
       "   'content-type': 'application/x-amz-json-1.1',\n",
       "   'content-length': '2',\n",
       "   'date': 'Thu, 21 May 2020 18:55:49 GMT'},\n",
       "  'RetryAttempts': 0}}"
      ]
     },
     "execution_count": 21,
     "metadata": {},
     "output_type": "execute_result"
    }
   ],
   "source": [
    "# Use this cell to expire a HIT \n",
    "HIT_id_to_expire = \"3KTCJ4SCVIG57UQO0SIU2LPPYBCM1G\" \n",
    "expire_hit(HIT_id_to_expire)"
   ]
  },
  {
   "cell_type": "code",
   "execution_count": null,
   "metadata": {},
   "outputs": [],
   "source": [
    "# Use this cell to add assignments to a HIT \n",
    "HIT_id_to_add_assignments = \"FILL THIS IN\"\n",
    "num_assignments_to_add = 0\n",
    "add_assignments(HIT_id_to_add_assignments, num_assignments_to_add)"
   ]
  },
  {
   "cell_type": "markdown",
   "metadata": {},
   "source": [
    "# Add custom qualifications "
   ]
  },
  {
   "cell_type": "markdown",
   "metadata": {},
   "source": [
    "## Add a qualification to disqualify workers who have done work before\n",
    "\n",
    "- uses \"negative qualification\" method from https://github.com/cloudyr/MturkR/wiki/qualifications-as-blocks\n",
    "\n",
    "#### NOTE: quals are kept separate for the sandbox and prod. Make sure you are creating and assigning your quals in prod. "
   ]
  },
  {
   "cell_type": "markdown",
   "metadata": {},
   "source": [
    "### Structure of a new qualification"
   ]
  },
  {
   "cell_type": "code",
   "execution_count": 28,
   "metadata": {},
   "outputs": [],
   "source": [
    "NEW_QUAL = {\n",
    "    'Name': 'qualName',\n",
    "    'Keywords': 'Keywords for qual',\n",
    "    'Description': 'What is this qual, and why are you assigning it?',\n",
    "    'QualificationTypeStatus': 'Active',\n",
    "    'AutoGranted': False\n",
    "}"
   ]
  },
  {
   "cell_type": "markdown",
   "metadata": {},
   "source": [
    "### Helpers for creating, viewing, and assigning qualifications"
   ]
  },
  {
   "cell_type": "code",
   "execution_count": 52,
   "metadata": {},
   "outputs": [],
   "source": [
    "# Registers a custom qualification with MTurk \n",
    "def create_qual(new_qual):\n",
    "    if ALLOW_CREATE_QUAL: \n",
    "        response = cl.create_qualification_type(**new_qual)\n",
    "        print(response)\n",
    "        Id = response['QualificationType']['QualificationTypeId']\n",
    "        print(\"id\", Id)\n",
    "        return Id\n",
    "    else: \n",
    "        raise RuntimeError(\"This action is not currently enabled; set `ALLOW_CREATE_QUAL` to true to proceed with this action\")\n",
    "        \n",
    "# Gets all the custom quals you have created and prints them\n",
    "def list_quals(): \n",
    "    response = cl.list_qualification_types(\n",
    "            Query='hasCompletedVisualGraphRecallTask',\n",
    "            MustBeRequestable=False\n",
    "    )\n",
    "    print(response)\n",
    "    \n",
    "# Assigns a qualification to a worker \n",
    "def assign_qual(qual_id, worker_ids): \n",
    "    for worker in worker_ids: \n",
    "        response = cl.associate_qualification_with_worker(\n",
    "                QualificationTypeId=qual_id, \n",
    "                WorkerId=worker,\n",
    "                IntegerValue=1,\n",
    "                SendNotification=False\n",
    "        )\n",
    "        print(response)\n",
    "        assert response\n",
    "        \n",
    "# Gets the ids of all workers who worked on a particular hit \n",
    "def get_workers_for_hit(hitid): \n",
    "    a = get_all_assignments(hitid)\n",
    "    workers = [a_['WorkerId'] for a_ in a]\n",
    "    return workers\n",
    "    \n",
    "# Confirms that every worker in worker_ids has qual with qual_id\n",
    "def confirm_quals(qual_id, worker_ids): \n",
    "    for w in worker_ids: \n",
    "        response = cl.get_qualification_score(\n",
    "                QualificationTypeId=qual_id,\n",
    "                WorkerId=w\n",
    "        )\n",
    "        response = response['Qualification']\n",
    "        assert response['Status'] == 'Granted'\n",
    "        assert response['IntegerValue'] == 1\n",
    "        \n",
    "# Assigns qual with `qual_id` to every worker who has completed an assignment for the hit with `hitid`\n",
    "def assign_qual_for_hit(hitid, qual_id): \n",
    "    workers = get_workers_for_hit(hitid)\n",
    "    print(\"got workers\")\n",
    "    assign_qual(qual_id, workers)\n",
    "    print(\"assigned qual\")\n",
    "    confirm_quals(qual_id, workers)\n",
    "    print(\"confirmed qual\")"
   ]
  },
  {
   "cell_type": "markdown",
   "metadata": {},
   "source": [
    "### Use the following cells to manipulate qualifications"
   ]
  },
  {
   "cell_type": "code",
   "execution_count": 12,
   "metadata": {},
   "outputs": [
    {
     "ename": "NameError",
     "evalue": "name 'list_quals' is not defined",
     "output_type": "error",
     "traceback": [
      "\u001b[0;31m---------------------------------------------------------------------------\u001b[0m",
      "\u001b[0;31mNameError\u001b[0m                                 Traceback (most recent call last)",
      "\u001b[0;32m<ipython-input-12-6d594089450b>\u001b[0m in \u001b[0;36m<module>\u001b[0;34m\u001b[0m\n\u001b[1;32m      1\u001b[0m \u001b[0;31m# Use this cell to view the custom qualifications you have created\u001b[0m\u001b[0;34m\u001b[0m\u001b[0;34m\u001b[0m\u001b[0;34m\u001b[0m\u001b[0m\n\u001b[0;32m----> 2\u001b[0;31m \u001b[0mlist_quals\u001b[0m\u001b[0;34m(\u001b[0m\u001b[0;34m)\u001b[0m\u001b[0;34m\u001b[0m\u001b[0;34m\u001b[0m\u001b[0m\n\u001b[0m",
      "\u001b[0;31mNameError\u001b[0m: name 'list_quals' is not defined"
     ]
    }
   ],
   "source": [
    "# Use this cell to view the custom qualifications you have created\n",
    "list_quals()"
   ]
  },
  {
   "cell_type": "code",
   "execution_count": null,
   "metadata": {},
   "outputs": [],
   "source": [
    "# Use this cell to create a new qual \n",
    "qual_to_create = {}\n",
    "create_qual(qual_to_create)"
   ]
  },
  {
   "cell_type": "code",
   "execution_count": null,
   "metadata": {},
   "outputs": [],
   "source": [
    "# Use this cell to assign a custom qual to every worker who has done a specific HIT\n",
    "hit_id = \"FILL THIS IN\"\n",
    "qual_id_to_assign = \"FILL THIS IN\"\n",
    "assign_qual_for_hit(hit_id, qual_id_to_assign)"
   ]
  },
  {
   "cell_type": "markdown",
   "metadata": {},
   "source": [
    "# Create Compensation HIT\n",
    "\n",
    "Mistakes happen, and sometimes they can lead to a worker who put in an honest effort being unable to complete a task and get paid. It's a good idea to compensate these workers when they reach out because it helps maintain relations with workers and is the right thing to do.\n",
    "\n",
    "However, workers can only be paid upon completing a task. The workaround is to create a custom qualification, assign it to the worker you want to compensate, and create a no-work HIT requiring the custom qualification. This code does that."
   ]
  },
  {
   "cell_type": "code",
   "execution_count": 13,
   "metadata": {},
   "outputs": [],
   "source": [
    "# worker_ids is str[]\n",
    "# compensation is str but should match the regex ^\\d*\\.\\d\\d$ (e.g. \"1.00\")\n",
    "# for_hit_id is str -- optional, but helpful for records\n",
    "def compensate_workers(worker_ids, compensation, for_hit_id=\"\"):\n",
    "    with open('compensation.xml', 'r') as myfile:\n",
    "        question_xml=myfile.read()\n",
    "\n",
    "    keywords = 'compensation'\n",
    "    description = 'Compensation for HIT'\n",
    "    if for_hit_id:\n",
    "        keywords += ', ' + for_hit_id\n",
    "        description += ' ' + for_hit_id\n",
    "\n",
    "    # create qual, assign to workers\n",
    "    custom_qual = {\n",
    "        'Name': str(uuid4()), # a qual must have a unique name\n",
    "        'Keywords': keywords,\n",
    "        'Description': description,\n",
    "        'QualificationTypeStatus': 'Active',\n",
    "        'AutoGranted': False\n",
    "    }\n",
    "    qual_id = create_qual(custom_qual)\n",
    "    assign_qual(qual_id, worker_ids)\n",
    "\n",
    "    # create HIT requiring qual\n",
    "    task = {\n",
    "        'numAssignments': len(worker_ids),\n",
    "        'lifetime': 3 * 24 * 60 * 60, # 3 days\n",
    "        'duration': 5 * 60, # 5 min\n",
    "        'rewardAmount': compensation,\n",
    "        'title': description,\n",
    "        'keywords': keywords,\n",
    "        'description': description,\n",
    "    }\n",
    "    quals = [{\n",
    "        'QualificationTypeId': qual_id,\n",
    "        'Comparator': 'Exists',\n",
    "        'ActionsGuarded': 'DiscoverPreviewAndAccept'\n",
    "    }]\n",
    "    create_hit(task, question_xml, quals)"
   ]
  },
  {
   "cell_type": "code",
   "execution_count": 44,
   "metadata": {},
   "outputs": [
    {
     "name": "stdout",
     "output_type": "stream",
     "text": [
      "{'QualificationType': {'QualificationTypeId': '3X9YVAW8NXRJWT9CUA5YXGPLXLK4KX', 'CreationTime': datetime.datetime(2020, 5, 24, 18, 17, 29, tzinfo=tzlocal()), 'Name': 'c663c77c-744b-48b4-b64e-a5b84cc77010', 'Description': 'Compensation for HIT 3Y6OYEUGEAT8Y72O3HQ2R2MXROYS5N', 'Keywords': 'compensation, 3Y6OYEUGEAT8Y72O3HQ2R2MXROYS5N', 'QualificationTypeStatus': 'Active', 'IsRequestable': True, 'AutoGranted': False}, 'ResponseMetadata': {'RequestId': 'cd7ff091-c60f-4e1d-ac93-ff5f00c1b924', 'HTTPStatusCode': 200, 'HTTPHeaders': {'x-amzn-requestid': 'cd7ff091-c60f-4e1d-ac93-ff5f00c1b924', 'content-type': 'application/x-amz-json-1.1', 'content-length': '355', 'date': 'Sun, 24 May 2020 22:17:28 GMT'}, 'RetryAttempts': 0}}\n",
      "id 3X9YVAW8NXRJWT9CUA5YXGPLXLK4KX\n",
      "{'ResponseMetadata': {'RequestId': '1bbd3abc-b3e9-4cf5-8d66-e3963adcdabe', 'HTTPStatusCode': 200, 'HTTPHeaders': {'x-amzn-requestid': '1bbd3abc-b3e9-4cf5-8d66-e3963adcdabe', 'content-type': 'application/x-amz-json-1.1', 'content-length': '2', 'date': 'Sun, 24 May 2020 22:17:28 GMT'}, 'RetryAttempts': 0}}\n",
      "{'HIT': {'HITId': '3CZH926SIETON5VU6CDDNBRJ1XTE42', 'HITTypeId': '3M36IJVRRBM2VM7AMO42Q9X6FVIISJ', 'HITGroupId': '34KQN2TBLWU54DE5YDHJZD2JJWWSAE', 'CreationTime': datetime.datetime(2020, 5, 24, 18, 17, 29, tzinfo=tzlocal()), 'Title': 'Compensation for HIT 3Y6OYEUGEAT8Y72O3HQ2R2MXROYS5N', 'Description': 'Compensation for HIT 3Y6OYEUGEAT8Y72O3HQ2R2MXROYS5N', 'Question': '<QuestionForm xmlns=\"http://mechanicalturk.amazonaws.com/AWSMechanicalTurkDataSchemas/2005-10-01/QuestionForm.xsd\">\\n    <Overview>\\n        <FormattedContent><![CDATA[\\n            <h1><strong>Compensation HIT</strong></h1>\\n            <h2>Description</h2>\\n            <h4>We\\'re sorry you experienced a problem with one of our HITs. Please accept our apologies and compensation for your time.</h4>\\n            <h2>Instructions:</h2>\\n            <h4>Enter your worker ID in the box below.</h4>\\n        ]]>\\n        </FormattedContent>\\n    </Overview>\\n    <Question>\\n        <QuestionIdentifier>workerID</QuestionIdentifier>\\n        <DisplayName>Worker ID</DisplayName>\\n        <IsRequired>true</IsRequired>\\n        <QuestionContent>\\n            <Text>Please enter your worker ID here: </Text>\\n        </QuestionContent>\\n        <AnswerSpecification>\\n            <FreeTextAnswer>\\n                <NumberOfLinesSuggestion>1</NumberOfLinesSuggestion>\\n            </FreeTextAnswer>\\n        </AnswerSpecification>\\n    </Question>\\n</QuestionForm>\\n', 'Keywords': 'compensation, 3Y6OYEUGEAT8Y72O3HQ2R2MXROYS5N', 'HITStatus': 'Assignable', 'MaxAssignments': 1, 'Reward': '1.20', 'AutoApprovalDelayInSeconds': 604800, 'Expiration': datetime.datetime(2020, 5, 27, 18, 17, 29, tzinfo=tzlocal()), 'AssignmentDurationInSeconds': 300, 'QualificationRequirements': [{'QualificationTypeId': '3X9YVAW8NXRJWT9CUA5YXGPLXLK4KX', 'Comparator': 'Exists', 'RequiredToPreview': True, 'ActionsGuarded': 'DiscoverPreviewAndAccept'}], 'HITReviewStatus': 'NotReviewed', 'NumberOfAssignmentsPending': 0, 'NumberOfAssignmentsAvailable': 1, 'NumberOfAssignmentsCompleted': 0}, 'ResponseMetadata': {'RequestId': '809f8585-300a-4885-bf2c-81fb9b6ec45e', 'HTTPStatusCode': 200, 'HTTPHeaders': {'x-amzn-requestid': '809f8585-300a-4885-bf2c-81fb9b6ec45e', 'content-type': 'application/x-amz-json-1.1', 'content-length': '1900', 'date': 'Sun, 24 May 2020 22:17:29 GMT'}, 'RetryAttempts': 0}}\n",
      "\n",
      "\n"
     ]
    }
   ],
   "source": [
    "worker_ids = ['A10V73YYJVB362'] # worker_id strings in a list\n",
    "compensation = \"1.20\" # change to the amount of dollars you want to give\n",
    "for_hit_id = \"3Y6OYEUGEAT8Y72O3HQ2R2MXROYS5N\" # hit_id string (what you are compensating for)\n",
    "compensate_workers(worker_ids, compensation, for_hit_id)"
   ]
  },
  {
   "cell_type": "markdown",
   "metadata": {},
   "source": [
    "# Download data"
   ]
  },
  {
   "cell_type": "markdown",
   "metadata": {},
   "source": [
    "Helper to download data from MTurk "
   ]
  },
  {
   "cell_type": "code",
   "execution_count": 26,
   "metadata": {},
   "outputs": [],
   "source": [
    "def pretty_print(obj):\n",
    "    pp = pprint.PrettyPrinter(indent=4)\n",
    "    pp.pprint(obj)\n",
    "    pp = None\n",
    "\n",
    "# Downloads all the assignments completed for `hits` as a list of dictionaries. \n",
    "# If a download_path is given, also saves that data as json \n",
    "def get_assignment_content(hits, download_path=\"\", should_print=False): \n",
    "    all_responses = []\n",
    "    for hit in hits: \n",
    "        hitid = hit['HITId']\n",
    "        assignments = get_all_assignments(hitid)\n",
    "        for a in assignments:\n",
    "            a_xml = a['Answer']\n",
    "            #print(a_xml)\n",
    "            soup = bs(a_xml, \"html.parser\")\n",
    "            answers = soup.find_all(\"answer\")\n",
    "            #print(answers)\n",
    "            results = {'HITId': a['HITId'], 'AssignmentId': a['AssignmentId'], 'WorkerId': a['WorkerId']}\n",
    "            for ans in answers: \n",
    "                identifier = ans.find('questionidentifier').string\n",
    "                answer = ans.find('freetext').string\n",
    "                try: \n",
    "                    results[identifier] = json.loads(answer)\n",
    "                except:\n",
    "                    results[identifier] = answer\n",
    "            all_responses.append(results)\n",
    "    if should_print: \n",
    "        pretty_print(all_responses)\n",
    "    if download_path: \n",
    "        with open(download_path, 'w') as outfile: \n",
    "            json.dump(all_responses, outfile)\n",
    "    return all_responses\n",
    "            "
   ]
  },
  {
   "cell_type": "code",
   "execution_count": 28,
   "metadata": {},
   "outputs": [
    {
     "name": "stdout",
     "output_type": "stream",
     "text": [
      "Individual assignments downloaded: 50\n"
     ]
    }
   ],
   "source": [
    "# Use this cell to download data\n",
    "responses = get_assignment_content(hits[:5], download_path='./50_assigs_apr18.json', should_print=False)\n",
    "print('Individual assignments downloaded:',len(responses))"
   ]
  },
  {
   "cell_type": "code",
   "execution_count": 30,
   "metadata": {},
   "outputs": [
    {
     "name": "stdout",
     "output_type": "stream",
     "text": [
      "105\n",
      "105\n",
      "105\n",
      "105\n",
      "105\n",
      "105\n",
      "105\n",
      "105\n",
      "105\n",
      "105\n",
      "105\n",
      "105\n",
      "105\n",
      "105\n",
      "105\n",
      "105\n",
      "105\n",
      "105\n",
      "105\n",
      "105\n",
      "105\n",
      "105\n",
      "105\n",
      "105\n",
      "105\n",
      "105\n",
      "105\n",
      "105\n",
      "105\n",
      "105\n",
      "105\n",
      "105\n",
      "105\n",
      "105\n",
      "105\n",
      "105\n",
      "105\n",
      "105\n",
      "105\n",
      "105\n",
      "105\n",
      "105\n",
      "105\n",
      "105\n",
      "105\n",
      "105\n",
      "105\n",
      "105\n",
      "105\n",
      "105\n",
      "Counter({'no': 2732, 'yes': 2518})\n"
     ]
    }
   ],
   "source": [
    "# View assignments\n",
    "import collections\n",
    "\n",
    "def response_counts(json_file):\n",
    "    # Load json file\n",
    "    with open(json_file, 'r') as infile:\n",
    "        data = json.load(infile)\n",
    "    \n",
    "    # Loop over all HITs and count responses\n",
    "    res = []\n",
    "    for hit in data:\n",
    "        for r in hit[\"results\"]:\n",
    "            res.append(r[\"response\"])\n",
    "\n",
    "    # Show counts in res\n",
    "    counts = collections.Counter(res)\n",
    "    print(counts)\n",
    "\n",
    "response_counts(\"./50_assigs_apr18.json\")"
   ]
  },
  {
   "cell_type": "code",
   "execution_count": null,
   "metadata": {},
   "outputs": [],
   "source": [
    "\n"
   ]
  },
  {
   "cell_type": "code",
   "execution_count": null,
   "metadata": {},
   "outputs": [],
   "source": []
  },
  {
   "cell_type": "code",
   "execution_count": null,
   "metadata": {},
   "outputs": [],
   "source": []
  }
 ],
 "metadata": {
  "kernelspec": {
   "display_name": "Python 3",
   "language": "python",
   "name": "python3"
  },
  "language_info": {
   "codemirror_mode": {
    "name": "ipython",
    "version": 3
   },
   "file_extension": ".py",
   "mimetype": "text/x-python",
   "name": "python",
   "nbconvert_exporter": "python",
   "pygments_lexer": "ipython3",
   "version": "3.8.3"
  }
 },
 "nbformat": 4,
 "nbformat_minor": 4
}
