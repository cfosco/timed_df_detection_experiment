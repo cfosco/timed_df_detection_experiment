{
 "cells": [
  {
   "cell_type": "markdown",
   "id": "aef4e81f-304c-4e9f-aa82-a6e7ceabccd2",
   "metadata": {},
   "source": [
    "# Build jsons for timed experiment"
   ]
  },
  {
   "cell_type": "markdown",
   "id": "9eb5ffdb-00b2-4717-8222-525a145d93d8",
   "metadata": {},
   "source": [
    "## Json format:\n",
    "\n",
    "```\n",
    "{\n",
    "\n",
    "\"level1\":[\n",
    "            {url:\"url1\", time: 100, label:\"fake\"},  # time in msec\n",
    "            {url:\"url2\", time: 3000, label:\"real\"},\n",
    "            \n",
    "            ...\n",
    "         ],\n",
    "\"level2\":[\n",
    "            {url:\"url1\", time: 100, label:\"fake\"},\n",
    "            {url:\"url2\", time: 3000, label:\"fake\"},\n",
    "            ...\n",
    "            \n",
    "         ],\n",
    "\"level3\":[\n",
    "            {url:\"url1\", time: 100, label:\"real\"},\n",
    "            {url:\"url2\", time: 3000, label:\"fake\"},\n",
    "            ...\n",
    "            \n",
    "         ]\n",
    "\n",
    ".\n",
    ".\n",
    ".\n",
    "\n",
    "}\n",
    "```\n",
    "\n",
    "\n",
    "\n",
    "\n",
    "## Structure of the jsons\n",
    "\n",
    "- 50% real, 50% fake (balanced prevalence), but also 15% fake (low prevalence)\n",
    "- Control the fakeness of deepfakes (work with elements that don't have obvious artifacts)\n",
    "- Create versions with and without caricatures\n",
    "- Same participant across different times\n",
    "- Practice trials\n",
    "- In each level, different times, but randomize order\n",
    "- Balance the number of videos shown, number of times within a level, times shown per video\n",
    "- Make sure we show caricatures and fakes an equal amount of times\n",
    "- Mix both caricatures and deepfakes in one level\n",
    "\n",
    "For practice trials:\n",
    "- Start with longest time, decrease shown times and random at the end \n",
    "- Send the distribution of jsons"
   ]
  },
  {
   "cell_type": "markdown",
   "id": "45a3ff2a",
   "metadata": {},
   "source": [
    "# Remaining tasks\n",
    "\n",
    "- [ ] Ensure the number of times across levels is balanced\n",
    "- [ ] Ensure the number of real/fakes across levels is balanced\n",
    "- [ ] Measure the number of times we need to show each json to get around ~10 responses per video and per time"
   ]
  },
  {
   "cell_type": "code",
   "execution_count": 1,
   "id": "bd51af3d-eabc-4881-9ae4-39da3c479e04",
   "metadata": {},
   "outputs": [],
   "source": [
    "# Imports\n",
    "import numpy as np\n",
    "import matplotlib.pyplot as plt\n",
    "import json\n",
    "import os\n",
    "import requests"
   ]
  },
  {
   "cell_type": "code",
   "execution_count": 3,
   "id": "dcbe85e4-1b30-4016-9f73-9c26a1a0500f",
   "metadata": {},
   "outputs": [
    {
     "name": "stdout",
     "output_type": "stream",
     "text": [
      "\n",
      "Loaded 1015 deepfake urls\n"
     ]
    }
   ],
   "source": [
    "# Load list of real deepfake URLs\n",
    "def load_urls_from_jsons(json_folder):\n",
    "    df_urls = set()\n",
    "    for f in os.listdir(json_folder):\n",
    "        if not f.endswith('.json'): continue\n",
    "        j = json.load(open(os.path.join(json_folder,f)))\n",
    "        for k in j.keys():\n",
    "            for u in j[k]:\n",
    "                df_urls.add(u)\n",
    "\n",
    "    print(\"\\nLoaded %d deepfake urls\" % len(df_urls))\n",
    "\n",
    "    return df_urls\n",
    "\n",
    "deepfake_urls = load_urls_from_jsons('exp2_jsons')"
   ]
  },
  {
   "cell_type": "code",
   "execution_count": 4,
   "metadata": {},
   "outputs": [
    {
     "name": "stdout",
     "output_type": "stream",
     "text": [
      "199 cari_urls loaded\n",
      "200 real urls loaded\n"
     ]
    }
   ],
   "source": [
    "def build_label_dict(metadata_path='../metadata.json'):\n",
    "    '''Checks metadata.json (in DeepfakeDetection main folder) to see if input f has a fake label. Returns true if it does.'''\n",
    "\n",
    "    # Load metadata\n",
    "    metadata = json.load(open(metadata_path))\n",
    "\n",
    "    label_dict={}\n",
    "\n",
    "    # Build label dict\n",
    "    for part in metadata.values():\n",
    "        for video, d in part.items():\n",
    "            label_dict[video[:-4]] = d['label']\n",
    "    \n",
    "    return label_dict\n",
    "\n",
    "def load_caricature_urls(base_url, label_dict):\n",
    "    '''Loads all caricatures from a given base url. Returns a list of urls.'''\n",
    "\n",
    "    urls = set()\n",
    "    r = requests.get(base_url)\n",
    "    # Loop over elements in caricature folder from visiongpu url\n",
    "    for f in r.text.split('\\n'):\n",
    "\n",
    "        # Get the substring from f in between href=\" and \"\n",
    "        f = f[f.find('href=\"')+6:f.find('\"', f.find('href=\"')+6)]\n",
    "\n",
    "        # Skip non mp4 files\n",
    "        if not f.endswith('.mp4'): continue\n",
    "        \n",
    "\n",
    "        # if file corresponds to gradcam caricature with amp10:\n",
    "        if 'cari' in f and 'gradcam_amp10' in f:\n",
    "            # Check in metadata if f is a deepfake\n",
    "            if label_dict[f.split('_')[0]]=='FAKE':\n",
    "                urls.add(os.path.join(base_url,f))\n",
    "\n",
    "    return urls\n",
    "      \n",
    "def load_real_urls(base_url, label_dict):\n",
    "    '''Loads all real videos from a given base url. Returns a list of urls.'''\n",
    "\n",
    "    urls = set()\n",
    "    r = requests.get(base_url)\n",
    "    # Loop over elements in caricature folder from visiongpu url\n",
    "    for f in r.text.split('\\n'):\n",
    "\n",
    "        # Get the substring from f in between href=\" and \"\n",
    "        f = f[f.find('href=\"')+6:f.find('\"', f.find('href=\"')+6)]\n",
    "\n",
    "        # Skip non mp4 files\n",
    "        if not f.endswith('.mp4'): continue\n",
    "        \n",
    "        if label_dict.get(f[:-4], None)=='REAL':\n",
    "                urls.add(os.path.join(base_url,f))\n",
    "\n",
    "    return urls\n",
    "\n",
    "label_dict = build_label_dict()\n",
    "cari_urls = load_caricature_urls(\"http://visiongpu23.csail.mit.edu/scratch/datasets/DeepfakeDetection/caricatures/\", label_dict)\n",
    "real_urls = load_real_urls(\"http://visiongpu23.csail.mit.edu/scratch/datasets/DeepfakeDetection/caricatures/\", label_dict)\n",
    "print(\"%d cari_urls loaded\" %len(cari_urls))\n",
    "print(\"%d real urls loaded\" %len(real_urls))"
   ]
  },
  {
   "cell_type": "code",
   "execution_count": 5,
   "metadata": {},
   "outputs": [
    {
     "name": "stdout",
     "output_type": "stream",
     "text": [
      "199 fake urls loaded\n"
     ]
    }
   ],
   "source": [
    "def get_fake_urls_from_cari_urls(cari_urls):\n",
    "    '''Extracts the 10-character filename of each cari url and builds new url with it'''\n",
    "\n",
    "    fake_urls = set()\n",
    "    for url in cari_urls:\n",
    "        fake_urls.add(url.split('_')[0]+'.mp4')\n",
    "\n",
    "    return fake_urls\n",
    "\n",
    "fake_urls = get_fake_urls_from_cari_urls(cari_urls)\n",
    "print(\"%d fake urls loaded\" % len(fake_urls))"
   ]
  },
  {
   "cell_type": "code",
   "execution_count": 6,
   "metadata": {},
   "outputs": [],
   "source": [
    "def create_jsons_for_timed_experiment(real_urls, fake_urls, cari_urls, number_of_jsons_to_make, \n",
    "                                        pres_times, number_of_levels_per_json, number_of_elems_per_level):\n",
    "    '''Creates a set of jsons assigning all real and fake urls to different jsons, \n",
    "    according to the number_of_elems_per_level and the number of levels per json.\n",
    "    These jsons have:\n",
    "    - Level 0: practice trial\n",
    "    - In each level, each deepfake is shown for different times, but the order of those times is randomized\n",
    "    - Balance the number of videos shown, number of times within a level, times shown per video\n",
    "    - Make sure we show caricatures and fakes an equal amount of times\n",
    "    - Mix both caricatures and deepfakes in one level, but have some elements without caricatures at all'''\n",
    "\n",
    "    jsons = []\n",
    "\n",
    "    print(len(real_urls), len(fake_urls), len(cari_urls))\n",
    "\n",
    "    for i in range(number_of_jsons_to_make):\n",
    "\n",
    "        # Create empty json\n",
    "        j = {}\n",
    "\n",
    "        # Every json must have a balanced number of real/fake, around 25% caricatures and 25% deepfakes, \n",
    "        # a balanced number of pres_times, and show each video only once. Across all jsons, we should have a balanced number of times per video \n",
    "        \n",
    "    # # Generate random list of FAKE/REAL labels\n",
    "    # real_fake = [\"FAKE_OR_CARI\",\"REAL\"]*int(number_of_elems_per_level*number_of_levels_per_json/2 +1)\n",
    "    # np.random.shuffle(real_fake)\n",
    "\n",
    "    # # Generate random list of FAKE/CARI labels, half the size of the real_fake array\n",
    "    # fake_cari = [\"FAKE\",\"CARI\"]*int(len(real_fake)/2) \n",
    "    # np.random.shuffle(fake_cari)\n",
    "\n",
    "\n",
    "        # Create list of REAL labels\n",
    "        real_labels = [\"REAL\"]*int(np.ceil(number_of_elems_per_level*number_of_levels_per_json/2))\n",
    "\n",
    "        # Create list of FAKE labels\n",
    "        fake_labels = [\"FAKE\"]*int(np.ceil(number_of_elems_per_level*number_of_levels_per_json/4))\n",
    "\n",
    "        # Create list of CARI labels\n",
    "        cari_labels = [\"CARI\"]*int(np.ceil(number_of_elems_per_level*number_of_levels_per_json/4))\n",
    "\n",
    "        # Concatenate the lists\n",
    "        labels = real_labels + fake_labels + cari_labels\n",
    "        np.random.shuffle(labels)\n",
    "\n",
    "        # Generate random list of pres_times\n",
    "        pres_times_list = pres_times*int(number_of_elems_per_level*number_of_levels_per_json/len(pres_times)/2 +1)\n",
    "        np.random.shuffle(pres_times_list)\n",
    "\n",
    "        # Ensure pres_times_list and labels are both larger than number_of_elems_per_level*number_of_levels_per_json\n",
    "        assert(len(pres_times_list) >= number_of_elems_per_level*number_of_levels_per_json)\n",
    "        assert(len(labels) >= number_of_elems_per_level*number_of_levels_per_json)\n",
    "\n",
    "        # Create levels\n",
    "        for l in range(number_of_levels_per_json):\n",
    "            j[\"level%d\"%l] = []\n",
    "            \n",
    "            # Add videos to level by popping for shuffled list of labels and pres_times\n",
    "            for t in range(number_of_elems_per_level):\n",
    "\n",
    "                # Assign urls to jsons\n",
    "                if labels.pop()==\"REAL\":\n",
    "                    j[\"level%d\"%l].append({\"url\": real_urls.pop(), \"time\": pres_times_list.pop(), \"label\": 'REAL'})\n",
    "                elif labels.pop()==\"FAKE\":\n",
    "                    j[\"level%d\"%l].append({\"url\": fake_urls.pop(), \"time\": pres_times_list.pop(), \"label\": 'FAKE'})\n",
    "                else: # popped a cari token, add a caricature instead of a fake\n",
    "                    j[\"level%d\"%l].append({\"url\": cari_urls.pop(), \"time\": pres_times_list.pop(), \"label\": 'CARI'})\n",
    "\n",
    "        save_json(j, \"jsons/json_\"+str(i)+\".json\")\n",
    "        jsons.append(j)\n",
    "    \n",
    "\n",
    "    return jsons\n",
    "            \n",
    "def save_json(j, path):\n",
    "    with open(path, 'w') as f:\n",
    "        json.dump(j, f)\n",
    "\n"
   ]
  },
  {
   "cell_type": "code",
   "execution_count": 7,
   "id": "2b0a2e15",
   "metadata": {},
   "outputs": [
    {
     "name": "stdout",
     "output_type": "stream",
     "text": [
      "For the given vars, the number of jsons needed to show all fakes and caris at least once for each time is: 12\n",
      "len(real_urls) 200\n",
      "len(fake_urls) 199\n",
      "len(fake_urls) 199\n",
      "200 199 199\n"
     ]
    },
    {
     "ename": "IndexError",
     "evalue": "pop from empty list",
     "output_type": "error",
     "traceback": [
      "\u001b[0;31m---------------------------------------------------------------------------\u001b[0m",
      "\u001b[0;31mIndexError\u001b[0m                                Traceback (most recent call last)",
      "\u001b[0;32m<ipython-input-7-3291620b94b1>\u001b[0m in \u001b[0;36m<module>\u001b[0;34m\u001b[0m\n\u001b[1;32m     14\u001b[0m \u001b[0mprint\u001b[0m\u001b[0;34m(\u001b[0m\u001b[0;34m\"len(fake_urls)\"\u001b[0m\u001b[0;34m,\u001b[0m\u001b[0mlen\u001b[0m\u001b[0;34m(\u001b[0m\u001b[0mcari_urls\u001b[0m\u001b[0;34m)\u001b[0m\u001b[0;34m)\u001b[0m\u001b[0;34m\u001b[0m\u001b[0;34m\u001b[0m\u001b[0m\n\u001b[1;32m     15\u001b[0m \u001b[0;34m\u001b[0m\u001b[0m\n\u001b[0;32m---> 16\u001b[0;31m timedexp_jsons = create_jsons_for_timed_experiment(real_urls.copy(), fake_urls.copy(), cari_urls.copy(), \n\u001b[0m\u001b[1;32m     17\u001b[0m                                                     \u001b[0mnumber_of_jsons_to_make\u001b[0m\u001b[0;34m=\u001b[0m\u001b[0mnumber_of_jsons_to_make\u001b[0m\u001b[0;34m,\u001b[0m\u001b[0;34m\u001b[0m\u001b[0;34m\u001b[0m\u001b[0m\n\u001b[1;32m     18\u001b[0m                                                     \u001b[0mpres_times\u001b[0m\u001b[0;34m=\u001b[0m\u001b[0mpres_times\u001b[0m\u001b[0;34m,\u001b[0m\u001b[0;34m\u001b[0m\u001b[0;34m\u001b[0m\u001b[0m\n",
      "\u001b[0;32m<ipython-input-6-a27905b9d3a0>\u001b[0m in \u001b[0;36mcreate_jsons_for_timed_experiment\u001b[0;34m(real_urls, fake_urls, cari_urls, number_of_jsons_to_make, pres_times, number_of_levels_per_json, number_of_elems_per_level)\u001b[0m\n\u001b[1;32m     60\u001b[0m \u001b[0;34m\u001b[0m\u001b[0m\n\u001b[1;32m     61\u001b[0m                 \u001b[0;31m# Assign urls to jsons\u001b[0m\u001b[0;34m\u001b[0m\u001b[0;34m\u001b[0m\u001b[0;34m\u001b[0m\u001b[0m\n\u001b[0;32m---> 62\u001b[0;31m                 \u001b[0;32mif\u001b[0m \u001b[0mlabels\u001b[0m\u001b[0;34m.\u001b[0m\u001b[0mpop\u001b[0m\u001b[0;34m(\u001b[0m\u001b[0;34m)\u001b[0m\u001b[0;34m==\u001b[0m\u001b[0;34m\"REAL\"\u001b[0m\u001b[0;34m:\u001b[0m\u001b[0;34m\u001b[0m\u001b[0;34m\u001b[0m\u001b[0m\n\u001b[0m\u001b[1;32m     63\u001b[0m                     \u001b[0mj\u001b[0m\u001b[0;34m[\u001b[0m\u001b[0;34m\"level%d\"\u001b[0m\u001b[0;34m%\u001b[0m\u001b[0ml\u001b[0m\u001b[0;34m]\u001b[0m\u001b[0;34m.\u001b[0m\u001b[0mappend\u001b[0m\u001b[0;34m(\u001b[0m\u001b[0;34m{\u001b[0m\u001b[0;34m\"url\"\u001b[0m\u001b[0;34m:\u001b[0m \u001b[0mreal_urls\u001b[0m\u001b[0;34m.\u001b[0m\u001b[0mpop\u001b[0m\u001b[0;34m(\u001b[0m\u001b[0;34m)\u001b[0m\u001b[0;34m,\u001b[0m \u001b[0;34m\"time\"\u001b[0m\u001b[0;34m:\u001b[0m \u001b[0mpres_times_list\u001b[0m\u001b[0;34m.\u001b[0m\u001b[0mpop\u001b[0m\u001b[0;34m(\u001b[0m\u001b[0;34m)\u001b[0m\u001b[0;34m,\u001b[0m \u001b[0;34m\"label\"\u001b[0m\u001b[0;34m:\u001b[0m \u001b[0;34m'REAL'\u001b[0m\u001b[0;34m}\u001b[0m\u001b[0;34m)\u001b[0m\u001b[0;34m\u001b[0m\u001b[0;34m\u001b[0m\u001b[0m\n\u001b[1;32m     64\u001b[0m                 \u001b[0;32melif\u001b[0m \u001b[0mlabels\u001b[0m\u001b[0;34m.\u001b[0m\u001b[0mpop\u001b[0m\u001b[0;34m(\u001b[0m\u001b[0;34m)\u001b[0m\u001b[0;34m==\u001b[0m\u001b[0;34m\"FAKE\"\u001b[0m\u001b[0;34m:\u001b[0m\u001b[0;34m\u001b[0m\u001b[0;34m\u001b[0m\u001b[0m\n",
      "\u001b[0;31mIndexError\u001b[0m: pop from empty list"
     ]
    }
   ],
   "source": [
    "# Calculate the number of jsons needed to show all fakes and caris loaded\n",
    "\n",
    "number_of_levels_per_json=5\n",
    "number_of_elements_per_level=20\n",
    "pres_times=[300, 500, 1000, 2000, 3000, 5000]\n",
    "reps=1\n",
    "\n",
    "number_of_jsons_to_make = int(np.ceil((len(fake_urls)+len(cari_urls))*len(pres_times)*reps/number_of_elements_per_level/number_of_levels_per_json/2))\n",
    "print(\"For the given vars, the number of jsons needed to show all fakes and caris at least once for each time is: %d\" % number_of_jsons_to_make)\n",
    "\n",
    "\n",
    "print(\"len(real_urls)\",len(real_urls))\n",
    "print(\"len(fake_urls)\",len(fake_urls))\n",
    "print(\"len(fake_urls)\",len(cari_urls))\n",
    "\n",
    "timedexp_jsons = create_jsons_for_timed_experiment(real_urls.copy(), fake_urls.copy(), cari_urls.copy(), \n",
    "                                                    number_of_jsons_to_make=number_of_jsons_to_make, \n",
    "                                                    pres_times=pres_times, \n",
    "                                                    number_of_levels_per_json=number_of_levels_per_json, \n",
    "                                                    number_of_elems_per_level=number_of_elements_per_level)\n",
    "print(\"%d jsons created\" % len(timedexp_jsons))\n"
   ]
  },
  {
   "cell_type": "code",
   "execution_count": 9,
   "id": "b2f3101f",
   "metadata": {},
   "outputs": [
    {
     "data": {
      "text/plain": [
       "4.0"
      ]
     },
     "execution_count": 9,
     "metadata": {},
     "output_type": "execute_result"
    }
   ],
   "source": [
    "np.ceil(3.7)"
   ]
  },
  {
   "cell_type": "code",
   "execution_count": 6,
   "metadata": {},
   "outputs": [
    {
     "data": {
      "text/plain": [
       "{'level0': [{'url': 'http://visiongpu23.csail.mit.edu/scratch/datasets/DeepfakeDetection/caricatures/syxobtuucp.mp4',\n",
       "   'time': 1000,\n",
       "   'label': 'REAL'},\n",
       "  {'url': 'http://visiongpu23.csail.mit.edu/scratch/datasets/DeepfakeDetection/caricatures/blnmxntbey.mp4',\n",
       "   'time': 500,\n",
       "   'label': 'REAL'},\n",
       "  {'url': 'http://visiongpu23.csail.mit.edu/scratch/datasets/DeepfakeDetection/caricatures/fjrueenjyp_cari_Small_gradcam_amp10.mp4',\n",
       "   'time': 2000,\n",
       "   'label': 'CARI'},\n",
       "  {'url': 'http://visiongpu23.csail.mit.edu/scratch/datasets/DeepfakeDetection/caricatures/eqslzbqfea_cari_Small_gradcam_amp10.mp4',\n",
       "   'time': 300,\n",
       "   'label': 'CARI'},\n",
       "  {'url': 'http://visiongpu23.csail.mit.edu/scratch/datasets/DeepfakeDetection/caricatures/tynfsthodx.mp4',\n",
       "   'time': 2000,\n",
       "   'label': 'FAKE'},\n",
       "  {'url': 'http://visiongpu23.csail.mit.edu/scratch/datasets/DeepfakeDetection/caricatures/ipvwtgdlre_cari_Small_gradcam_amp10.mp4',\n",
       "   'time': 2000,\n",
       "   'label': 'CARI'},\n",
       "  {'url': 'http://visiongpu23.csail.mit.edu/scratch/datasets/DeepfakeDetection/caricatures/tejfudfgpq.mp4',\n",
       "   'time': 2000,\n",
       "   'label': 'REAL'},\n",
       "  {'url': 'http://visiongpu23.csail.mit.edu/scratch/datasets/DeepfakeDetection/caricatures/ptbnewtvon.mp4',\n",
       "   'time': 5000,\n",
       "   'label': 'FAKE'},\n",
       "  {'url': 'http://visiongpu23.csail.mit.edu/scratch/datasets/DeepfakeDetection/caricatures/uvrzaczrbx.mp4',\n",
       "   'time': 3000,\n",
       "   'label': 'REAL'},\n",
       "  {'url': 'http://visiongpu23.csail.mit.edu/scratch/datasets/DeepfakeDetection/caricatures/sufvvwmbha_cari_Small_gradcam_amp10.mp4',\n",
       "   'time': 2000,\n",
       "   'label': 'CARI'}],\n",
       " 'level1': [{'url': 'http://visiongpu23.csail.mit.edu/scratch/datasets/DeepfakeDetection/caricatures/rrrfjhugvb.mp4',\n",
       "   'time': 300,\n",
       "   'label': 'FAKE'},\n",
       "  {'url': 'http://visiongpu23.csail.mit.edu/scratch/datasets/DeepfakeDetection/caricatures/zfrrixsimm.mp4',\n",
       "   'time': 1000,\n",
       "   'label': 'REAL'},\n",
       "  {'url': 'http://visiongpu23.csail.mit.edu/scratch/datasets/DeepfakeDetection/caricatures/cosghhimnd.mp4',\n",
       "   'time': 1000,\n",
       "   'label': 'REAL'},\n",
       "  {'url': 'http://visiongpu23.csail.mit.edu/scratch/datasets/DeepfakeDetection/caricatures/apedduehoy.mp4',\n",
       "   'time': 5000,\n",
       "   'label': 'REAL'},\n",
       "  {'url': 'http://visiongpu23.csail.mit.edu/scratch/datasets/DeepfakeDetection/caricatures/vssmlqoiti.mp4',\n",
       "   'time': 300,\n",
       "   'label': 'REAL'},\n",
       "  {'url': 'http://visiongpu23.csail.mit.edu/scratch/datasets/DeepfakeDetection/caricatures/cxsvvnxpyz.mp4',\n",
       "   'time': 300,\n",
       "   'label': 'REAL'},\n",
       "  {'url': 'http://visiongpu23.csail.mit.edu/scratch/datasets/DeepfakeDetection/caricatures/swsaoktwgi_cari_Small_gradcam_amp10.mp4',\n",
       "   'time': 3000,\n",
       "   'label': 'CARI'},\n",
       "  {'url': 'http://visiongpu23.csail.mit.edu/scratch/datasets/DeepfakeDetection/caricatures/ztyuiqrhdk.mp4',\n",
       "   'time': 500,\n",
       "   'label': 'REAL'},\n",
       "  {'url': 'http://visiongpu23.csail.mit.edu/scratch/datasets/DeepfakeDetection/caricatures/txmnoyiyte_cari_Small_gradcam_amp10.mp4',\n",
       "   'time': 500,\n",
       "   'label': 'CARI'},\n",
       "  {'url': 'http://visiongpu23.csail.mit.edu/scratch/datasets/DeepfakeDetection/caricatures/sktpeppbkc_cari_Small_gradcam_amp10.mp4',\n",
       "   'time': 300,\n",
       "   'label': 'CARI'}],\n",
       " 'level2': [{'url': 'http://visiongpu23.csail.mit.edu/scratch/datasets/DeepfakeDetection/caricatures/usqqvxcjmg_cari_Small_gradcam_amp10.mp4',\n",
       "   'time': 1000,\n",
       "   'label': 'CARI'},\n",
       "  {'url': 'http://visiongpu23.csail.mit.edu/scratch/datasets/DeepfakeDetection/caricatures/viteugozpv.mp4',\n",
       "   'time': 300,\n",
       "   'label': 'REAL'},\n",
       "  {'url': 'http://visiongpu23.csail.mit.edu/scratch/datasets/DeepfakeDetection/caricatures/oefukgnvel.mp4',\n",
       "   'time': 1000,\n",
       "   'label': 'REAL'},\n",
       "  {'url': 'http://visiongpu23.csail.mit.edu/scratch/datasets/DeepfakeDetection/caricatures/rukyxomwcx.mp4',\n",
       "   'time': 500,\n",
       "   'label': 'REAL'},\n",
       "  {'url': 'http://visiongpu23.csail.mit.edu/scratch/datasets/DeepfakeDetection/caricatures/sodvtfqbpf.mp4',\n",
       "   'time': 300,\n",
       "   'label': 'REAL'},\n",
       "  {'url': 'http://visiongpu23.csail.mit.edu/scratch/datasets/DeepfakeDetection/caricatures/pcyswtgick.mp4',\n",
       "   'time': 5000,\n",
       "   'label': 'FAKE'},\n",
       "  {'url': 'http://visiongpu23.csail.mit.edu/scratch/datasets/DeepfakeDetection/caricatures/oyqgwjdwaj_cari_Small_gradcam_amp10.mp4',\n",
       "   'time': 2000,\n",
       "   'label': 'CARI'},\n",
       "  {'url': 'http://visiongpu23.csail.mit.edu/scratch/datasets/DeepfakeDetection/caricatures/udxqbhgvvx_cari_Small_gradcam_amp10.mp4',\n",
       "   'time': 2000,\n",
       "   'label': 'CARI'},\n",
       "  {'url': 'http://visiongpu23.csail.mit.edu/scratch/datasets/DeepfakeDetection/caricatures/rktrpsdlci.mp4',\n",
       "   'time': 5000,\n",
       "   'label': 'REAL'},\n",
       "  {'url': 'http://visiongpu23.csail.mit.edu/scratch/datasets/DeepfakeDetection/caricatures/iznnzjvaxc_cari_Small_gradcam_amp10.mp4',\n",
       "   'time': 3000,\n",
       "   'label': 'CARI'}],\n",
       " 'level3': [{'url': 'http://visiongpu23.csail.mit.edu/scratch/datasets/DeepfakeDetection/caricatures/wcssbghcpc.mp4',\n",
       "   'time': 1000,\n",
       "   'label': 'FAKE'},\n",
       "  {'url': 'http://visiongpu23.csail.mit.edu/scratch/datasets/DeepfakeDetection/caricatures/hbufmvbium.mp4',\n",
       "   'time': 3000,\n",
       "   'label': 'REAL'},\n",
       "  {'url': 'http://visiongpu23.csail.mit.edu/scratch/datasets/DeepfakeDetection/caricatures/dzkyxbbqkr.mp4',\n",
       "   'time': 2000,\n",
       "   'label': 'REAL'},\n",
       "  {'url': 'http://visiongpu23.csail.mit.edu/scratch/datasets/DeepfakeDetection/caricatures/petmyhjclt.mp4',\n",
       "   'time': 500,\n",
       "   'label': 'FAKE'},\n",
       "  {'url': 'http://visiongpu23.csail.mit.edu/scratch/datasets/DeepfakeDetection/caricatures/gqnaxievjx_cari_Small_gradcam_amp10.mp4',\n",
       "   'time': 500,\n",
       "   'label': 'CARI'},\n",
       "  {'url': 'http://visiongpu23.csail.mit.edu/scratch/datasets/DeepfakeDetection/caricatures/ytddugrwph_cari_Small_gradcam_amp10.mp4',\n",
       "   'time': 5000,\n",
       "   'label': 'CARI'},\n",
       "  {'url': 'http://visiongpu23.csail.mit.edu/scratch/datasets/DeepfakeDetection/caricatures/kwfdyqofzw.mp4',\n",
       "   'time': 5000,\n",
       "   'label': 'REAL'},\n",
       "  {'url': 'http://visiongpu23.csail.mit.edu/scratch/datasets/DeepfakeDetection/caricatures/shnsajrsow.mp4',\n",
       "   'time': 300,\n",
       "   'label': 'FAKE'},\n",
       "  {'url': 'http://visiongpu23.csail.mit.edu/scratch/datasets/DeepfakeDetection/caricatures/lebzjtusnr_cari_Small_gradcam_amp10.mp4',\n",
       "   'time': 1000,\n",
       "   'label': 'CARI'},\n",
       "  {'url': 'http://visiongpu23.csail.mit.edu/scratch/datasets/DeepfakeDetection/caricatures/khpipxnsvx_cari_Small_gradcam_amp10.mp4',\n",
       "   'time': 500,\n",
       "   'label': 'CARI'}],\n",
       " 'level4': [{'url': 'http://visiongpu23.csail.mit.edu/scratch/datasets/DeepfakeDetection/caricatures/tjuihawuqm_cari_Small_gradcam_amp10.mp4',\n",
       "   'time': 3000,\n",
       "   'label': 'CARI'},\n",
       "  {'url': 'http://visiongpu23.csail.mit.edu/scratch/datasets/DeepfakeDetection/caricatures/qclpbcbgeq.mp4',\n",
       "   'time': 5000,\n",
       "   'label': 'REAL'},\n",
       "  {'url': 'http://visiongpu23.csail.mit.edu/scratch/datasets/DeepfakeDetection/caricatures/xxzefxwyku.mp4',\n",
       "   'time': 300,\n",
       "   'label': 'REAL'},\n",
       "  {'url': 'http://visiongpu23.csail.mit.edu/scratch/datasets/DeepfakeDetection/caricatures/ncmpqwmnzb.mp4',\n",
       "   'time': 3000,\n",
       "   'label': 'REAL'},\n",
       "  {'url': 'http://visiongpu23.csail.mit.edu/scratch/datasets/DeepfakeDetection/caricatures/kqlvggiqee.mp4',\n",
       "   'time': 3000,\n",
       "   'label': 'REAL'},\n",
       "  {'url': 'http://visiongpu23.csail.mit.edu/scratch/datasets/DeepfakeDetection/caricatures/ytddugrwph.mp4',\n",
       "   'time': 500,\n",
       "   'label': 'FAKE'},\n",
       "  {'url': 'http://visiongpu23.csail.mit.edu/scratch/datasets/DeepfakeDetection/caricatures/yhjlnisfel.mp4',\n",
       "   'time': 1000,\n",
       "   'label': 'REAL'},\n",
       "  {'url': 'http://visiongpu23.csail.mit.edu/scratch/datasets/DeepfakeDetection/caricatures/tyjpjpglgx.mp4',\n",
       "   'time': 3000,\n",
       "   'label': 'REAL'},\n",
       "  {'url': 'http://visiongpu23.csail.mit.edu/scratch/datasets/DeepfakeDetection/caricatures/waucvvmtkq.mp4',\n",
       "   'time': 5000,\n",
       "   'label': 'REAL'},\n",
       "  {'url': 'http://visiongpu23.csail.mit.edu/scratch/datasets/DeepfakeDetection/caricatures/kvmpmhdxly.mp4',\n",
       "   'time': 3000,\n",
       "   'label': 'REAL'}]}"
      ]
     },
     "execution_count": 6,
     "metadata": {},
     "output_type": "execute_result"
    }
   ],
   "source": [
    "timedexp_jsons[0]"
   ]
  },
  {
   "cell_type": "code",
   "execution_count": 1,
   "id": "1b26ebd9-5598-4696-9c2a-533287419172",
   "metadata": {},
   "outputs": [],
   "source": [
    "# import requests\n",
    "\n",
    "# response = requests.get('http://visiongpu23.csail.mit.edu/scratch/datasets/DeepfakeDetection/caricatures/')\n",
    "\n",
    "# print(response.text)"
   ]
  },
  {
   "cell_type": "code",
   "execution_count": 7,
   "metadata": {},
   "outputs": [
    {
     "data": {
      "image/png": "[encoded data removed]",
      "text/plain": [
       "<Figure size 1080x216 with 5 Axes>"
      ]
     },
     "metadata": {
      "needs_background": "light"
     },
     "output_type": "display_data"
    },
    {
     "data": {
      "image/png": "[encoded data removed]",
      "text/plain": [
       "<Figure size 432x288 with 1 Axes>"
      ]
     },
     "metadata": {
      "needs_background": "light"
     },
     "output_type": "display_data"
    },
    {
     "data": {
      "image/png": "[encoded data removed]",
      "text/plain": [
       "<Figure size 1080x216 with 5 Axes>"
      ]
     },
     "metadata": {
      "needs_background": "light"
     },
     "output_type": "display_data"
    },
    {
     "data": {
      "image/png": "[encoded data removed]",
      "text/plain": [
       "<Figure size 432x288 with 1 Axes>"
      ]
     },
     "metadata": {
      "needs_background": "light"
     },
     "output_type": "display_data"
    },
    {
     "data": {
      "image/png": "[encoded data removed]",
      "text/plain": [
       "<Figure size 1080x216 with 5 Axes>"
      ]
     },
     "metadata": {
      "needs_background": "light"
     },
     "output_type": "display_data"
    },
    {
     "data": {
      "image/png": "[encoded data removed]",
      "text/plain": [
       "<Figure size 432x288 with 1 Axes>"
      ]
     },
     "metadata": {
      "needs_background": "light"
     },
     "output_type": "display_data"
    },
    {
     "data": {
      "image/png": "[encoded data removed]",
      "text/plain": [
       "<Figure size 1080x216 with 5 Axes>"
      ]
     },
     "metadata": {
      "needs_background": "light"
     },
     "output_type": "display_data"
    },
    {
     "data": {
      "image/png": "[encoded data removed]",
      "text/plain": [
       "<Figure size 432x288 with 1 Axes>"
      ]
     },
     "metadata": {
      "needs_background": "light"
     },
     "output_type": "display_data"
    },
    {
     "data": {
      "image/png": "[encoded data removed]",
      "text/plain": [
       "<Figure size 1080x216 with 5 Axes>"
      ]
     },
     "metadata": {
      "needs_background": "light"
     },
     "output_type": "display_data"
    },
    {
     "data": {
      "image/png": "[encoded data removed]",
      "text/plain": [
       "<Figure size 432x288 with 1 Axes>"
      ]
     },
     "metadata": {
      "needs_background": "light"
     },
     "output_type": "display_data"
    }
   ],
   "source": [
    "# Visualize the jsons\n",
    "\n",
    "def vis_jsons(json):\n",
    "    '''Plot histograms showing properties of given json: \n",
    "        1. Times in a level\n",
    "        2. Proportion of reals and fakes\n",
    "    '''\n",
    "\n",
    "    number_of_levels = len(json)\n",
    "\n",
    "    plt.figure(figsize=(15,3))\n",
    "    for l in range(number_of_levels):\n",
    "        plt.subplot(1, number_of_levels, l+1)\n",
    "        plt.hist(np.array([x['time'] for x in json[\"level%d\"%l]]))\n",
    "        plt.title(\"Level %d\"%l)\n",
    "        plt.xlabel(\"Time (ms)\")\n",
    "        plt.ylabel(\"Number of videos\")\n",
    "        plt.tight_layout()\n",
    "    plt.show()\n",
    "\n",
    "    # Show barchart of times over the entire json\n",
    "    plt.figure()   \n",
    "    plt.hist(np.array([x['time'] for x in json[\"level%d\"%l] for l in range(number_of_levels)]), bins = 10)\n",
    "    plt.show()\n",
    "\n",
    "\n",
    "\n",
    "vis_jsons(timedexp_jsons[0])\n",
    "vis_jsons(timedexp_jsons[1])\n",
    "vis_jsons(timedexp_jsons[2])\n",
    "vis_jsons(timedexp_jsons[3])\n",
    "vis_jsons(timedexp_jsons[4])"
   ]
  },
  {
   "cell_type": "code",
   "execution_count": 3,
   "id": "74317c46-edbe-4ccd-9118-2c76c3ddd0cf",
   "metadata": {},
   "outputs": [
    {
     "ename": "SyntaxError",
     "evalue": "unexpected EOF while parsing (<ipython-input-3-260ab8fb77e0>, line 4)",
     "output_type": "error",
     "traceback": [
      "\u001b[0;36m  File \u001b[0;32m\"<ipython-input-3-260ab8fb77e0>\"\u001b[0;36m, line \u001b[0;32m4\u001b[0m\n\u001b[0;31m    \u001b[0m\n\u001b[0m    ^\u001b[0m\n\u001b[0;31mSyntaxError\u001b[0m\u001b[0;31m:\u001b[0m unexpected EOF while parsing\n"
     ]
    }
   ],
   "source": [
    "# Build Jsons\n",
    "\n",
    "def build_json(urls, times):\n",
    "    "
   ]
  },
  {
   "cell_type": "code",
   "execution_count": null,
   "id": "48004b8c",
   "metadata": {},
   "outputs": [],
   "source": []
  }
 ],
 "metadata": {
  "interpreter": {
   "hash": "88524d5607f3a420db6635c15d6ae5e9f1d12f70838fc67462e7be7359cd01ae"
  },
  "kernelspec": {
   "display_name": "Python 3.8.3 64-bit ('base': conda)",
   "name": "python3"
  },
  "language_info": {
   "codemirror_mode": {
    "name": "ipython",
    "version": 3
   },
   "file_extension": ".py",
   "mimetype": "text/x-python",
   "name": "python",
   "nbconvert_exporter": "python",
   "pygments_lexer": "ipython3",
   "version": "3.8.3"
  }
 },
 "nbformat": 4,
 "nbformat_minor": 5
}
