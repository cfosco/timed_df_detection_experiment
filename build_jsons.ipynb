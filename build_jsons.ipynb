{
 "cells": [
  {
   "cell_type": "markdown",
   "id": "aef4e81f-304c-4e9f-aa82-a6e7ceabccd2",
   "metadata": {},
   "source": [
    "# Build jsons for timed experiment"
   ]
  },
  {
   "cell_type": "markdown",
   "id": "9eb5ffdb-00b2-4717-8222-525a145d93d8",
   "metadata": {},
   "source": [
    "## Json format:\n",
    "\n",
    "```\n",
    "{\n",
    "\n",
    "\"level1\":[\n",
    "            {url:\"url1\", time: 100},  # time in msec\n",
    "            {url:\"url2\", time: 3000},\n",
    "            \n",
    "            ...\n",
    "         ],\n",
    "\"level2\":[\n",
    "            {url:\"url1\", time: 100},\n",
    "            {url:\"url2\", time: 3000},\n",
    "            ...\n",
    "            \n",
    "         ],\n",
    "\"level3\":[\n",
    "            {url:\"url1\", time: 100},\n",
    "            {url:\"url2\", time: 3000},\n",
    "            ...\n",
    "            \n",
    "         ]\n",
    "\n",
    ".\n",
    ".\n",
    ".\n",
    "\n",
    "}\n",
    "```\n",
    "\n",
    "\n",
    "\n",
    "\n",
    "## Structure of the jsons\n",
    "\n",
    "- 50% real, 50% fake (balanced prevalence), but also 15% fake (low prevalence)\n",
    "- Control the fakeness of deepfakes (work with elements that don't have obvious artifacts)\n",
    "- Create versions with and without caricatures\n",
    "- Same participant across different times\n",
    "- Practice trials\n",
    "- In each level, different times, but randomize order\n",
    "- Balance the number of videos shown, number of times within a level, times shown per video\n",
    "- Make sure we show caricatures and fakes an equal amount of times\n",
    "- Mix both caricatures and deepfakes in one level"
   ]
  },
  {
   "cell_type": "code",
   "execution_count": 1,
   "id": "bd51af3d-eabc-4881-9ae4-39da3c479e04",
   "metadata": {},
   "outputs": [],
   "source": [
    "# Imports\n",
    "import numpy as np\n",
    "import matplotlib.pyplot as plt\n",
    "import json\n",
    "import os"
   ]
  },
  {
   "cell_type": "code",
   "execution_count": 2,
   "id": "dcbe85e4-1b30-4016-9f73-9c26a1a0500f",
   "metadata": {},
   "outputs": [
    {
     "name": "stdout",
     "output_type": "stream",
     "text": [
      "vids_for_exp2_5levels_id8.json\n",
      "vids_for_exp2_5levels_id6.json\n",
      "vids_for_exp2_5levels_id5.json\n",
      "vids_for_exp2_5levels_id2.json\n",
      "vids_for_exp2_5levels_id4.json\n",
      "new_exp2_5levels_id9.json\n",
      "new_exp2_5levels_id3.json\n",
      "vids_for_exp2_5levels_id0.json\n",
      "new_exp2_5levels_id2.json\n",
      "new_exp2_5levels_id7.json\n",
      "new_exp2_5levels_id5.json\n",
      "new_exp2_5levels_id8.json\n",
      "vids_for_exp2_5levels_id9.json\n",
      "new_exp2_5levels_id1.json\n",
      "vids_for_exp2_5levels_id7.json\n",
      "vids_for_exp2_5levels_id1.json\n",
      "new_exp2_5levels_id0.json\n",
      "vids_for_exp2_5levels_id10.json\n",
      "new_exp2_5levels_id4.json\n",
      "new_exp2_5levels_id6.json\n",
      "vids_for_exp2_5levels_id3.json\n",
      "\n",
      "Loaded 1015 deepfake urls\n"
     ]
    }
   ],
   "source": [
    "# Load list of real deepfake URLs\n",
    "def load_urls_from_jsons(json_folder):\n",
    "    df_urls = set()\n",
    "    json_folder = './exp2_jsons'\n",
    "    for f in os.listdir(json_folder):\n",
    "        if not f.endswith('.json'): continue\n",
    "        j = json.load(open(os.path.join(json_folder,f)))\n",
    "        for k in j.keys():\n",
    "            for u in j[k]:\n",
    "                df_urls.add(u)\n",
    "\n",
    "    print(\"\\nLoaded %d deepfake urls\" % len(df_urls))\n",
    "\n",
    "    return df_urls\n"
   ]
  },
  {
   "cell_type": "code",
   "execution_count": 3,
   "id": "1b26ebd9-5598-4696-9c2a-533287419172",
   "metadata": {},
   "outputs": [
    {
     "ename": "NameError",
     "evalue": "name 'show_urls' is not defined",
     "output_type": "error",
     "traceback": [
      "\u001b[0;31m---------------------------------------------------------------------------\u001b[0m",
      "\u001b[0;31mNameError\u001b[0m                                 Traceback (most recent call last)",
      "\u001b[0;32m<ipython-input-3-382593d167f4>\u001b[0m in \u001b[0;36m<module>\u001b[0;34m\u001b[0m\n\u001b[0;32m----> 1\u001b[0;31m \u001b[0mshow_urls\u001b[0m\u001b[0;34m(\u001b[0m\u001b[0;34m)\u001b[0m\u001b[0;34m\u001b[0m\u001b[0;34m\u001b[0m\u001b[0m\n\u001b[0m",
      "\u001b[0;31mNameError\u001b[0m: name 'show_urls' is not defined"
     ]
    }
   ],
   "source": [
    "show_urls()"
   ]
  },
  {
   "cell_type": "code",
   "execution_count": null,
   "id": "74317c46-edbe-4ccd-9118-2c76c3ddd0cf",
   "metadata": {},
   "outputs": [],
   "source": [
    "# Build Jsons\n",
    "\n",
    "def build_json(urls, times):\n",
    "    "
   ]
  }
 ],
 "metadata": {
  "interpreter": {
   "hash": "88524d5607f3a420db6635c15d6ae5e9f1d12f70838fc67462e7be7359cd01ae"
  },
  "kernelspec": {
   "display_name": "Python 3.8.3 64-bit ('base': conda)",
   "name": "python3"
  },
  "language_info": {
   "codemirror_mode": {
    "name": "ipython",
    "version": 3
   },
   "file_extension": ".py",
   "mimetype": "text/x-python",
   "name": "python",
   "nbconvert_exporter": "python",
   "pygments_lexer": "ipython3",
   "version": "3.8.3"
  }
 },
 "nbformat": 4,
 "nbformat_minor": 5
}
